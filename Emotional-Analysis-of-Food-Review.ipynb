{
 "cells": [
  {
   "cell_type": "code",
   "execution_count": 1,
   "metadata": {},
   "outputs": [],
   "source": [
    "import pandas as pd\n",
    "import numpy as np\n",
    "import matplotlib.pyplot as plt\n",
    "import seaborn as sns\n",
    "from sklearn.feature_extraction.text import CountVectorizer\n",
    "from sklearn.feature_extraction.text import TfidfVectorizer\n",
    "#from gensim.models import Word2Vec\n",
    "from sklearn.linear_model import LogisticRegression\n",
    "from sklearn.model_selection import train_test_split\n",
    "from sklearn.dummy import DummyClassifier\n",
    "from nltk.corpus import stopwords\n",
    "from nltk.stem import WordNetLemmatizer\n",
    "import nltk\n",
    "from nltk import ngrams\n",
    "from itertools import chain\n",
    "from wordcloud import WordCloud"
   ]
  },
  {
   "cell_type": "code",
   "execution_count": 2,
   "metadata": {},
   "outputs": [],
   "source": [
    "data = pd.read_csv('D:/amazon-fine-food-reviews/Reviews.csv')"
   ]
  },
  {
   "cell_type": "code",
   "execution_count": 5,
   "metadata": {},
   "outputs": [
    {
     "data": {
      "text/html": [
       "<div>\n",
       "<style scoped>\n",
       "    .dataframe tbody tr th:only-of-type {\n",
       "        vertical-align: middle;\n",
       "    }\n",
       "\n",
       "    .dataframe tbody tr th {\n",
       "        vertical-align: top;\n",
       "    }\n",
       "\n",
       "    .dataframe thead th {\n",
       "        text-align: right;\n",
       "    }\n",
       "</style>\n",
       "<table border=\"1\" class=\"dataframe\">\n",
       "  <thead>\n",
       "    <tr style=\"text-align: right;\">\n",
       "      <th></th>\n",
       "      <th>Id</th>\n",
       "      <th>ProductId</th>\n",
       "      <th>UserId</th>\n",
       "      <th>ProfileName</th>\n",
       "      <th>HelpfulnessNumerator</th>\n",
       "      <th>HelpfulnessDenominator</th>\n",
       "      <th>Score</th>\n",
       "      <th>Time</th>\n",
       "      <th>Summary</th>\n",
       "      <th>Text</th>\n",
       "    </tr>\n",
       "  </thead>\n",
       "  <tbody>\n",
       "    <tr>\n",
       "      <th>0</th>\n",
       "      <td>1</td>\n",
       "      <td>B001E4KFG0</td>\n",
       "      <td>A3SGXH7AUHU8GW</td>\n",
       "      <td>delmartian</td>\n",
       "      <td>1</td>\n",
       "      <td>1</td>\n",
       "      <td>5</td>\n",
       "      <td>1303862400</td>\n",
       "      <td>Good Quality Dog Food</td>\n",
       "      <td>I have bought several of the Vitality canned d...</td>\n",
       "    </tr>\n",
       "    <tr>\n",
       "      <th>1</th>\n",
       "      <td>2</td>\n",
       "      <td>B00813GRG4</td>\n",
       "      <td>A1D87F6ZCVE5NK</td>\n",
       "      <td>dll pa</td>\n",
       "      <td>0</td>\n",
       "      <td>0</td>\n",
       "      <td>1</td>\n",
       "      <td>1346976000</td>\n",
       "      <td>Not as Advertised</td>\n",
       "      <td>Product arrived labeled as Jumbo Salted Peanut...</td>\n",
       "    </tr>\n",
       "    <tr>\n",
       "      <th>2</th>\n",
       "      <td>3</td>\n",
       "      <td>B000LQOCH0</td>\n",
       "      <td>ABXLMWJIXXAIN</td>\n",
       "      <td>Natalia Corres \"Natalia Corres\"</td>\n",
       "      <td>1</td>\n",
       "      <td>1</td>\n",
       "      <td>4</td>\n",
       "      <td>1219017600</td>\n",
       "      <td>\"Delight\" says it all</td>\n",
       "      <td>This is a confection that has been around a fe...</td>\n",
       "    </tr>\n",
       "    <tr>\n",
       "      <th>3</th>\n",
       "      <td>4</td>\n",
       "      <td>B000UA0QIQ</td>\n",
       "      <td>A395BORC6FGVXV</td>\n",
       "      <td>Karl</td>\n",
       "      <td>3</td>\n",
       "      <td>3</td>\n",
       "      <td>2</td>\n",
       "      <td>1307923200</td>\n",
       "      <td>Cough Medicine</td>\n",
       "      <td>If you are looking for the secret ingredient i...</td>\n",
       "    </tr>\n",
       "    <tr>\n",
       "      <th>4</th>\n",
       "      <td>5</td>\n",
       "      <td>B006K2ZZ7K</td>\n",
       "      <td>A1UQRSCLF8GW1T</td>\n",
       "      <td>Michael D. Bigham \"M. Wassir\"</td>\n",
       "      <td>0</td>\n",
       "      <td>0</td>\n",
       "      <td>5</td>\n",
       "      <td>1350777600</td>\n",
       "      <td>Great taffy</td>\n",
       "      <td>Great taffy at a great price.  There was a wid...</td>\n",
       "    </tr>\n",
       "  </tbody>\n",
       "</table>\n",
       "</div>"
      ],
      "text/plain": [
       "   Id   ProductId          UserId                      ProfileName  \\\n",
       "0   1  B001E4KFG0  A3SGXH7AUHU8GW                       delmartian   \n",
       "1   2  B00813GRG4  A1D87F6ZCVE5NK                           dll pa   \n",
       "2   3  B000LQOCH0   ABXLMWJIXXAIN  Natalia Corres \"Natalia Corres\"   \n",
       "3   4  B000UA0QIQ  A395BORC6FGVXV                             Karl   \n",
       "4   5  B006K2ZZ7K  A1UQRSCLF8GW1T    Michael D. Bigham \"M. Wassir\"   \n",
       "\n",
       "   HelpfulnessNumerator  HelpfulnessDenominator  Score        Time  \\\n",
       "0                     1                       1      5  1303862400   \n",
       "1                     0                       0      1  1346976000   \n",
       "2                     1                       1      4  1219017600   \n",
       "3                     3                       3      2  1307923200   \n",
       "4                     0                       0      5  1350777600   \n",
       "\n",
       "                 Summary                                               Text  \n",
       "0  Good Quality Dog Food  I have bought several of the Vitality canned d...  \n",
       "1      Not as Advertised  Product arrived labeled as Jumbo Salted Peanut...  \n",
       "2  \"Delight\" says it all  This is a confection that has been around a fe...  \n",
       "3         Cough Medicine  If you are looking for the secret ingredient i...  \n",
       "4            Great taffy  Great taffy at a great price.  There was a wid...  "
      ]
     },
     "execution_count": 5,
     "metadata": {},
     "output_type": "execute_result"
    }
   ],
   "source": [
    "data.head()"
   ]
  },
  {
   "cell_type": "code",
   "execution_count": 3,
   "metadata": {},
   "outputs": [],
   "source": [
    "data['helpful percentage'] = np.where(data['HelpfulnessDenominator'] > 0,data['HelpfulnessNumerator'] / data['HelpfulnessDenominator'],-1)"
   ]
  },
  {
   "cell_type": "code",
   "execution_count": 8,
   "metadata": {},
   "outputs": [
    {
     "data": {
      "text/html": [
       "<div>\n",
       "<style scoped>\n",
       "    .dataframe tbody tr th:only-of-type {\n",
       "        vertical-align: middle;\n",
       "    }\n",
       "\n",
       "    .dataframe tbody tr th {\n",
       "        vertical-align: top;\n",
       "    }\n",
       "\n",
       "    .dataframe thead th {\n",
       "        text-align: right;\n",
       "    }\n",
       "</style>\n",
       "<table border=\"1\" class=\"dataframe\">\n",
       "  <thead>\n",
       "    <tr style=\"text-align: right;\">\n",
       "      <th></th>\n",
       "      <th>Id</th>\n",
       "      <th>ProductId</th>\n",
       "      <th>UserId</th>\n",
       "      <th>ProfileName</th>\n",
       "      <th>HelpfulnessNumerator</th>\n",
       "      <th>HelpfulnessDenominator</th>\n",
       "      <th>Score</th>\n",
       "      <th>Time</th>\n",
       "      <th>Summary</th>\n",
       "      <th>Text</th>\n",
       "      <th>helpful percentage</th>\n",
       "      <th>upvote</th>\n",
       "    </tr>\n",
       "  </thead>\n",
       "  <tbody>\n",
       "    <tr>\n",
       "      <th>0</th>\n",
       "      <td>1</td>\n",
       "      <td>B001E4KFG0</td>\n",
       "      <td>A3SGXH7AUHU8GW</td>\n",
       "      <td>delmartian</td>\n",
       "      <td>1</td>\n",
       "      <td>1</td>\n",
       "      <td>5</td>\n",
       "      <td>1303862400</td>\n",
       "      <td>Good Quality Dog Food</td>\n",
       "      <td>I have bought several of the Vitality canned d...</td>\n",
       "      <td>1.0</td>\n",
       "      <td>80%-100%</td>\n",
       "    </tr>\n",
       "    <tr>\n",
       "      <th>1</th>\n",
       "      <td>2</td>\n",
       "      <td>B00813GRG4</td>\n",
       "      <td>A1D87F6ZCVE5NK</td>\n",
       "      <td>dll pa</td>\n",
       "      <td>0</td>\n",
       "      <td>0</td>\n",
       "      <td>1</td>\n",
       "      <td>1346976000</td>\n",
       "      <td>Not as Advertised</td>\n",
       "      <td>Product arrived labeled as Jumbo Salted Peanut...</td>\n",
       "      <td>-1.0</td>\n",
       "      <td>Empty</td>\n",
       "    </tr>\n",
       "    <tr>\n",
       "      <th>2</th>\n",
       "      <td>3</td>\n",
       "      <td>B000LQOCH0</td>\n",
       "      <td>ABXLMWJIXXAIN</td>\n",
       "      <td>Natalia Corres \"Natalia Corres\"</td>\n",
       "      <td>1</td>\n",
       "      <td>1</td>\n",
       "      <td>4</td>\n",
       "      <td>1219017600</td>\n",
       "      <td>\"Delight\" says it all</td>\n",
       "      <td>This is a confection that has been around a fe...</td>\n",
       "      <td>1.0</td>\n",
       "      <td>80%-100%</td>\n",
       "    </tr>\n",
       "    <tr>\n",
       "      <th>3</th>\n",
       "      <td>4</td>\n",
       "      <td>B000UA0QIQ</td>\n",
       "      <td>A395BORC6FGVXV</td>\n",
       "      <td>Karl</td>\n",
       "      <td>3</td>\n",
       "      <td>3</td>\n",
       "      <td>2</td>\n",
       "      <td>1307923200</td>\n",
       "      <td>Cough Medicine</td>\n",
       "      <td>If you are looking for the secret ingredient i...</td>\n",
       "      <td>1.0</td>\n",
       "      <td>80%-100%</td>\n",
       "    </tr>\n",
       "    <tr>\n",
       "      <th>4</th>\n",
       "      <td>5</td>\n",
       "      <td>B006K2ZZ7K</td>\n",
       "      <td>A1UQRSCLF8GW1T</td>\n",
       "      <td>Michael D. Bigham \"M. Wassir\"</td>\n",
       "      <td>0</td>\n",
       "      <td>0</td>\n",
       "      <td>5</td>\n",
       "      <td>1350777600</td>\n",
       "      <td>Great taffy</td>\n",
       "      <td>Great taffy at a great price.  There was a wid...</td>\n",
       "      <td>-1.0</td>\n",
       "      <td>Empty</td>\n",
       "    </tr>\n",
       "  </tbody>\n",
       "</table>\n",
       "</div>"
      ],
      "text/plain": [
       "   Id   ProductId          UserId                      ProfileName  \\\n",
       "0   1  B001E4KFG0  A3SGXH7AUHU8GW                       delmartian   \n",
       "1   2  B00813GRG4  A1D87F6ZCVE5NK                           dll pa   \n",
       "2   3  B000LQOCH0   ABXLMWJIXXAIN  Natalia Corres \"Natalia Corres\"   \n",
       "3   4  B000UA0QIQ  A395BORC6FGVXV                             Karl   \n",
       "4   5  B006K2ZZ7K  A1UQRSCLF8GW1T    Michael D. Bigham \"M. Wassir\"   \n",
       "\n",
       "   HelpfulnessNumerator  HelpfulnessDenominator  Score        Time  \\\n",
       "0                     1                       1      5  1303862400   \n",
       "1                     0                       0      1  1346976000   \n",
       "2                     1                       1      4  1219017600   \n",
       "3                     3                       3      2  1307923200   \n",
       "4                     0                       0      5  1350777600   \n",
       "\n",
       "                 Summary                                               Text  \\\n",
       "0  Good Quality Dog Food  I have bought several of the Vitality canned d...   \n",
       "1      Not as Advertised  Product arrived labeled as Jumbo Salted Peanut...   \n",
       "2  \"Delight\" says it all  This is a confection that has been around a fe...   \n",
       "3         Cough Medicine  If you are looking for the secret ingredient i...   \n",
       "4            Great taffy  Great taffy at a great price.  There was a wid...   \n",
       "\n",
       "   helpful percentage    upvote  \n",
       "0                 1.0  80%-100%  \n",
       "1                -1.0     Empty  \n",
       "2                 1.0  80%-100%  \n",
       "3                 1.0  80%-100%  \n",
       "4                -1.0     Empty  "
      ]
     },
     "execution_count": 8,
     "metadata": {},
     "output_type": "execute_result"
    }
   ],
   "source": [
    "data.head()"
   ]
  },
  {
   "cell_type": "code",
   "execution_count": 4,
   "metadata": {},
   "outputs": [],
   "source": [
    "data['upvote'] = pd.cut(data['helpful percentage'],bins=[-1,0,0.2,0.4,0.6,0.8,1.0],labels=['Empty','0-20%','20%-40%','40%-60%','60%-80%','80%-100%'],include_lowest=True)"
   ]
  },
  {
   "cell_type": "markdown",
   "metadata": {},
   "source": [
    "上面计算出了评论有用率，然后根据这个特征使用分位数的方式进行分箱，对数据进行了离散化的处理，下面进行可视化的时候会需要这个特征"
   ]
  },
  {
   "cell_type": "code",
   "execution_count": 10,
   "metadata": {
    "scrolled": false
   },
   "outputs": [
    {
     "data": {
      "text/html": [
       "<div>\n",
       "<style scoped>\n",
       "    .dataframe tbody tr th:only-of-type {\n",
       "        vertical-align: middle;\n",
       "    }\n",
       "\n",
       "    .dataframe tbody tr th {\n",
       "        vertical-align: top;\n",
       "    }\n",
       "\n",
       "    .dataframe thead th {\n",
       "        text-align: right;\n",
       "    }\n",
       "</style>\n",
       "<table border=\"1\" class=\"dataframe\">\n",
       "  <thead>\n",
       "    <tr style=\"text-align: right;\">\n",
       "      <th></th>\n",
       "      <th>Id</th>\n",
       "      <th>ProductId</th>\n",
       "      <th>UserId</th>\n",
       "      <th>ProfileName</th>\n",
       "      <th>HelpfulnessNumerator</th>\n",
       "      <th>HelpfulnessDenominator</th>\n",
       "      <th>Score</th>\n",
       "      <th>Time</th>\n",
       "      <th>Summary</th>\n",
       "      <th>Text</th>\n",
       "      <th>helpful percentage</th>\n",
       "      <th>upvote</th>\n",
       "    </tr>\n",
       "  </thead>\n",
       "  <tbody>\n",
       "    <tr>\n",
       "      <th>0</th>\n",
       "      <td>1</td>\n",
       "      <td>B001E4KFG0</td>\n",
       "      <td>A3SGXH7AUHU8GW</td>\n",
       "      <td>delmartian</td>\n",
       "      <td>1</td>\n",
       "      <td>1</td>\n",
       "      <td>5</td>\n",
       "      <td>1303862400</td>\n",
       "      <td>Good Quality Dog Food</td>\n",
       "      <td>I have bought several of the Vitality canned d...</td>\n",
       "      <td>1.0</td>\n",
       "      <td>80%-100%</td>\n",
       "    </tr>\n",
       "    <tr>\n",
       "      <th>1</th>\n",
       "      <td>2</td>\n",
       "      <td>B00813GRG4</td>\n",
       "      <td>A1D87F6ZCVE5NK</td>\n",
       "      <td>dll pa</td>\n",
       "      <td>0</td>\n",
       "      <td>0</td>\n",
       "      <td>1</td>\n",
       "      <td>1346976000</td>\n",
       "      <td>Not as Advertised</td>\n",
       "      <td>Product arrived labeled as Jumbo Salted Peanut...</td>\n",
       "      <td>-1.0</td>\n",
       "      <td>Empty</td>\n",
       "    </tr>\n",
       "    <tr>\n",
       "      <th>2</th>\n",
       "      <td>3</td>\n",
       "      <td>B000LQOCH0</td>\n",
       "      <td>ABXLMWJIXXAIN</td>\n",
       "      <td>Natalia Corres \"Natalia Corres\"</td>\n",
       "      <td>1</td>\n",
       "      <td>1</td>\n",
       "      <td>4</td>\n",
       "      <td>1219017600</td>\n",
       "      <td>\"Delight\" says it all</td>\n",
       "      <td>This is a confection that has been around a fe...</td>\n",
       "      <td>1.0</td>\n",
       "      <td>80%-100%</td>\n",
       "    </tr>\n",
       "    <tr>\n",
       "      <th>3</th>\n",
       "      <td>4</td>\n",
       "      <td>B000UA0QIQ</td>\n",
       "      <td>A395BORC6FGVXV</td>\n",
       "      <td>Karl</td>\n",
       "      <td>3</td>\n",
       "      <td>3</td>\n",
       "      <td>2</td>\n",
       "      <td>1307923200</td>\n",
       "      <td>Cough Medicine</td>\n",
       "      <td>If you are looking for the secret ingredient i...</td>\n",
       "      <td>1.0</td>\n",
       "      <td>80%-100%</td>\n",
       "    </tr>\n",
       "    <tr>\n",
       "      <th>4</th>\n",
       "      <td>5</td>\n",
       "      <td>B006K2ZZ7K</td>\n",
       "      <td>A1UQRSCLF8GW1T</td>\n",
       "      <td>Michael D. Bigham \"M. Wassir\"</td>\n",
       "      <td>0</td>\n",
       "      <td>0</td>\n",
       "      <td>5</td>\n",
       "      <td>1350777600</td>\n",
       "      <td>Great taffy</td>\n",
       "      <td>Great taffy at a great price.  There was a wid...</td>\n",
       "      <td>-1.0</td>\n",
       "      <td>Empty</td>\n",
       "    </tr>\n",
       "  </tbody>\n",
       "</table>\n",
       "</div>"
      ],
      "text/plain": [
       "   Id   ProductId          UserId                      ProfileName  \\\n",
       "0   1  B001E4KFG0  A3SGXH7AUHU8GW                       delmartian   \n",
       "1   2  B00813GRG4  A1D87F6ZCVE5NK                           dll pa   \n",
       "2   3  B000LQOCH0   ABXLMWJIXXAIN  Natalia Corres \"Natalia Corres\"   \n",
       "3   4  B000UA0QIQ  A395BORC6FGVXV                             Karl   \n",
       "4   5  B006K2ZZ7K  A1UQRSCLF8GW1T    Michael D. Bigham \"M. Wassir\"   \n",
       "\n",
       "   HelpfulnessNumerator  HelpfulnessDenominator  Score        Time  \\\n",
       "0                     1                       1      5  1303862400   \n",
       "1                     0                       0      1  1346976000   \n",
       "2                     1                       1      4  1219017600   \n",
       "3                     3                       3      2  1307923200   \n",
       "4                     0                       0      5  1350777600   \n",
       "\n",
       "                 Summary                                               Text  \\\n",
       "0  Good Quality Dog Food  I have bought several of the Vitality canned d...   \n",
       "1      Not as Advertised  Product arrived labeled as Jumbo Salted Peanut...   \n",
       "2  \"Delight\" says it all  This is a confection that has been around a fe...   \n",
       "3         Cough Medicine  If you are looking for the secret ingredient i...   \n",
       "4            Great taffy  Great taffy at a great price.  There was a wid...   \n",
       "\n",
       "   helpful percentage    upvote  \n",
       "0                 1.0  80%-100%  \n",
       "1                -1.0     Empty  \n",
       "2                 1.0  80%-100%  \n",
       "3                 1.0  80%-100%  \n",
       "4                -1.0     Empty  "
      ]
     },
     "execution_count": 10,
     "metadata": {},
     "output_type": "execute_result"
    }
   ],
   "source": [
    "data.head()"
   ]
  },
  {
   "cell_type": "code",
   "execution_count": 8,
   "metadata": {},
   "outputs": [],
   "source": [
    "data_1 = data.groupby(['Score','upvote']).agg({'Id':'count'})"
   ]
  },
  {
   "cell_type": "code",
   "execution_count": 9,
   "metadata": {},
   "outputs": [],
   "source": [
    "data_1 = data_1.unstack()"
   ]
  },
  {
   "cell_type": "code",
   "execution_count": 11,
   "metadata": {},
   "outputs": [],
   "source": [
    "data_1.columns = data_1.columns.get_level_values(1)"
   ]
  },
  {
   "cell_type": "code",
   "execution_count": 13,
   "metadata": {},
   "outputs": [
    {
     "data": {
      "text/plain": [
       "Text(0.5, 1.0, 'How helpful users find among user scores')"
      ]
     },
     "execution_count": 13,
     "metadata": {},
     "output_type": "execute_result"
    },
    {
     "data": {
      "image/png": "[encoded data removed]",
      "text/plain": [
       "<Figure size 1080x720 with 2 Axes>"
      ]
     },
     "metadata": {
      "needs_background": "light"
     },
     "output_type": "display_data"
    }
   ],
   "source": [
    "fig = plt.figure(figsize=(15,10))\n",
    "\n",
    "sns.heatmap(data_1[data_1.columns[::-1]].T, cmap = 'YlGnBu', linewidths=.5, annot = True, fmt = 'd', cbar_kws={'label': '# reviews'})\n",
    "plt.yticks(rotation=0)\n",
    "plt.title('How helpful users find among user scores')"
   ]
  },
  {
   "cell_type": "markdown",
   "metadata": {},
   "source": [
    "这是一个热力图，从这个可视化的结果可以看出：\n",
    "#评论偏向于正向\n",
    "#有很多零票\n",
    "#超过半数的人给了5分"
   ]
  },
  {
   "cell_type": "markdown",
   "metadata": {},
   "source": [
    "下面先看一下数据中有没有缺失的情况"
   ]
  },
  {
   "cell_type": "code",
   "execution_count": 5,
   "metadata": {},
   "outputs": [
    {
     "data": {
      "text/html": [
       "<div>\n",
       "<style scoped>\n",
       "    .dataframe tbody tr th:only-of-type {\n",
       "        vertical-align: middle;\n",
       "    }\n",
       "\n",
       "    .dataframe tbody tr th {\n",
       "        vertical-align: top;\n",
       "    }\n",
       "\n",
       "    .dataframe thead th {\n",
       "        text-align: right;\n",
       "    }\n",
       "</style>\n",
       "<table border=\"1\" class=\"dataframe\">\n",
       "  <thead>\n",
       "    <tr style=\"text-align: right;\">\n",
       "      <th></th>\n",
       "      <th>total</th>\n",
       "      <th>percent</th>\n",
       "    </tr>\n",
       "  </thead>\n",
       "  <tbody>\n",
       "    <tr>\n",
       "      <th>Summary</th>\n",
       "      <td>27</td>\n",
       "      <td>0.0047</td>\n",
       "    </tr>\n",
       "    <tr>\n",
       "      <th>ProfileName</th>\n",
       "      <td>16</td>\n",
       "      <td>0.0028</td>\n",
       "    </tr>\n",
       "    <tr>\n",
       "      <th>upvote</th>\n",
       "      <td>2</td>\n",
       "      <td>0.0004</td>\n",
       "    </tr>\n",
       "    <tr>\n",
       "      <th>helpful percentage</th>\n",
       "      <td>0</td>\n",
       "      <td>0.0000</td>\n",
       "    </tr>\n",
       "    <tr>\n",
       "      <th>Text</th>\n",
       "      <td>0</td>\n",
       "      <td>0.0000</td>\n",
       "    </tr>\n",
       "    <tr>\n",
       "      <th>Time</th>\n",
       "      <td>0</td>\n",
       "      <td>0.0000</td>\n",
       "    </tr>\n",
       "    <tr>\n",
       "      <th>Score</th>\n",
       "      <td>0</td>\n",
       "      <td>0.0000</td>\n",
       "    </tr>\n",
       "    <tr>\n",
       "      <th>HelpfulnessDenominator</th>\n",
       "      <td>0</td>\n",
       "      <td>0.0000</td>\n",
       "    </tr>\n",
       "    <tr>\n",
       "      <th>HelpfulnessNumerator</th>\n",
       "      <td>0</td>\n",
       "      <td>0.0000</td>\n",
       "    </tr>\n",
       "    <tr>\n",
       "      <th>UserId</th>\n",
       "      <td>0</td>\n",
       "      <td>0.0000</td>\n",
       "    </tr>\n",
       "    <tr>\n",
       "      <th>ProductId</th>\n",
       "      <td>0</td>\n",
       "      <td>0.0000</td>\n",
       "    </tr>\n",
       "    <tr>\n",
       "      <th>Id</th>\n",
       "      <td>0</td>\n",
       "      <td>0.0000</td>\n",
       "    </tr>\n",
       "  </tbody>\n",
       "</table>\n",
       "</div>"
      ],
      "text/plain": [
       "                        total  percent\n",
       "Summary                    27   0.0047\n",
       "ProfileName                16   0.0028\n",
       "upvote                      2   0.0004\n",
       "helpful percentage          0   0.0000\n",
       "Text                        0   0.0000\n",
       "Time                        0   0.0000\n",
       "Score                       0   0.0000\n",
       "HelpfulnessDenominator      0   0.0000\n",
       "HelpfulnessNumerator        0   0.0000\n",
       "UserId                      0   0.0000\n",
       "ProductId                   0   0.0000\n",
       "Id                          0   0.0000"
      ]
     },
     "execution_count": 5,
     "metadata": {},
     "output_type": "execute_result"
    }
   ],
   "source": [
    "total = data.isnull().sum().sort_values(ascending=False)\n",
    "percent = round(data.isnull().sum().sort_values(ascending=False)/len(data)*100,4)\n",
    "pd.concat([total,percent],axis=1,keys=['total','percent'])"
   ]
  },
  {
   "cell_type": "markdown",
   "metadata": {},
   "source": [
    "数据中的缺失数据很少，可以不做处理"
   ]
  },
  {
   "cell_type": "markdown",
   "metadata": {},
   "source": [
    "下面对数据进行清洗，去除掉重复数据"
   ]
  },
  {
   "cell_type": "code",
   "execution_count": 6,
   "metadata": {},
   "outputs": [
    {
     "data": {
      "text/plain": [
       "Id                        174521\n",
       "ProductId                 174521\n",
       "UserId                    174521\n",
       "ProfileName               174516\n",
       "HelpfulnessNumerator      174521\n",
       "HelpfulnessDenominator    174521\n",
       "Score                     174521\n",
       "Time                      174521\n",
       "Summary                   174497\n",
       "Text                      174521\n",
       "helpful percentage        174521\n",
       "upvote                    174521\n",
       "dtype: int64"
      ]
     },
     "execution_count": 6,
     "metadata": {},
     "output_type": "execute_result"
    }
   ],
   "source": [
    "data[data.duplicated(subset={'UserId','ProfileName','Time','Text'})].count()"
   ]
  },
  {
   "cell_type": "code",
   "execution_count": 7,
   "metadata": {},
   "outputs": [],
   "source": [
    "data = data.drop_duplicates(subset={'UserId','ProfileName','Time','Text'})"
   ]
  },
  {
   "cell_type": "markdown",
   "metadata": {},
   "source": [
    "下面处理目标变量"
   ]
  },
  {
   "cell_type": "markdown",
   "metadata": {},
   "source": [
    "所有评论的得分在1-5之间，1、2为负面评论；3为中性评论；4、5为正面评论，所以，为了训练一个可以区分正面还是负面的评论模型，下面我打算将评分为3的中性评论剔除掉，将训练重点只关注到正面和负面的评论上"
   ]
  },
  {
   "cell_type": "markdown",
   "metadata": {},
   "source": [
    "还有一点需要住，就是关于预测的目标变量的问题，正面评论的分数是4或5，而负面的评论是1或2，但是如果用这个分数进行预测的话，那么预测的结论是不准确的，因为，分数这个目标变量会受到很多因素的影响，会导致模型预测的复杂度很高，所以一般有两种方式处理这种问题：\n",
    "#二值化的方式来处理，用1代表正面评论，用0代表负面评论\n",
    "#分箱的方式处理，如果不能用二值来处理的话，那么可以使用这种形式"
   ]
  },
  {
   "cell_type": "markdown",
   "metadata": {},
   "source": [
    "这里可以采用二值化的方式处理目标变量"
   ]
  },
  {
   "cell_type": "code",
   "execution_count": 8,
   "metadata": {},
   "outputs": [],
   "source": [
    "data_score = data[data['Score'] != 3]\n",
    "X = data_score['Text']\n",
    "y_mapping = {1:0,2:0,4:1,5:1}\n",
    "y = data_score['Score'].map(y_mapping)"
   ]
  },
  {
   "cell_type": "markdown",
   "metadata": {},
   "source": [
    "目前所获取的数据都是非数值类型的数据，这种数据是不能直接应用到模型中去的，所以必须进行特征工程，将文本数据转化为数值的形式才可以，而比较常用的方式有：\n",
    "#CountVectorizer:该方式是一种比较简单的方式，是只考虑每个单词的计数，可以将文本文档转化为文档向量的形式，是一种扁平向量。这种方式虽然简单，但是在处理分类任务和判断文档的相似性时这种方式已经可以有不错的表现了\n",
    "#Tfidf：这种方式的特点是考虑了词频和逆文档频率，是CountVectorizer的一种简单的扩展。因为有时候，只用词汇的计数是很难凸显出数据的主要特点的，所以Tfidf可以更好的强调那些有意义的单词，这种方式会凸显出罕见词，并忽略常见词\n",
    "#ngrams：这种方式加入了联想的功能，意思就是，每个词的出现都跟前一个或前若干个词有关，之前的技术都是不考虑语序的，但是这种技术考虑了词之间的顺序，在理解语义上要更加强大"
   ]
  },
  {
   "cell_type": "markdown",
   "metadata": {},
   "source": [
    "下面先用CountVectorizer来处理文本数据"
   ]
  },
  {
   "cell_type": "code",
   "execution_count": 11,
   "metadata": {},
   "outputs": [],
   "source": [
    "c = CountVectorizer(stop_words='english')\n",
    "lr_c = LogisticRegression()"
   ]
  },
  {
   "cell_type": "code",
   "execution_count": 12,
   "metadata": {},
   "outputs": [
    {
     "name": "stdout",
     "output_type": "stream",
     "text": [
      "feature:114966\n",
      "Model Accuracy:0.9252754253578058\n"
     ]
    },
    {
     "name": "stderr",
     "output_type": "stream",
     "text": [
      "D:\\ana\\lib\\site-packages\\sklearn\\svm\\base.py:931: ConvergenceWarning: Liblinear failed to converge, increase the number of iterations.\n",
      "  \"the number of iterations.\", ConvergenceWarning)\n"
     ]
    }
   ],
   "source": [
    "X_c = c.fit_transform(X)\n",
    "print(\"feature:{}\".format(X_c.shape[1]))\n",
    "X_train,X_test,y_train,y_test = train_test_split(X_c,y,random_state=0)\n",
    "clf = lr_c.fit(X_train,y_train)\n",
    "acc = clf.score(X_test,y_test)\n",
    "print(\"Model Accuracy:{}\".format(acc))"
   ]
  },
  {
   "cell_type": "markdown",
   "metadata": {},
   "source": [
    "通过逻辑回归这种简单的模型预测的结果还不错，有92.5%的准确率"
   ]
  },
  {
   "cell_type": "markdown",
   "metadata": {},
   "source": [
    "下面打算展示一下前20的正向词汇和负向词汇，看看有什么特点"
   ]
  },
  {
   "cell_type": "code",
   "execution_count": 15,
   "metadata": {},
   "outputs": [],
   "source": [
    "def show_p_n_top20(model,clf_model):\n",
    "    words = model.get_feature_names()\n",
    "    coef = clf_model.coef_.tolist()[0]\n",
    "    coef_data = pd.DataFrame({'Word':words,'Coef':coef}).sort_values(['Coef','Word'],ascending=[0,1])\n",
    "    print('Top 20 positive')\n",
    "    print(coef_data.head(20).to_string(index=False))\n",
    "    print(\"\")\n",
    "    print(\"Top 20 negative\")\n",
    "    print(coef_data.tail(20).to_string(index=False))"
   ]
  },
  {
   "cell_type": "code",
   "execution_count": 13,
   "metadata": {},
   "outputs": [
    {
     "name": "stdout",
     "output_type": "stream",
     "text": [
      "Top 20 positive\n",
      "       Word      Coef\n",
      " pleasantly  3.003869\n",
      "  addicting  2.352231\n",
      "  skeptical  2.269993\n",
      "     hooked  2.130548\n",
      "   downside  2.021214\n",
      "   drawback  1.967960\n",
      "    easiest  1.914714\n",
      "  delicious  1.879232\n",
      "  delighted  1.842513\n",
      "  addictive  1.829914\n",
      " compromise  1.803180\n",
      "     highly  1.791889\n",
      "    awesome  1.764523\n",
      "     divine  1.759387\n",
      "      lends  1.718197\n",
      "   terrific  1.710969\n",
      "  excellant  1.706685\n",
      "     delish  1.700890\n",
      "  excellent  1.700619\n",
      "        yum  1.696068\n",
      "\n",
      "Top 20 negative\n",
      "           Word      Coef\n",
      "          awful -1.975263\n",
      "         lacked -1.997284\n",
      "     discolored -2.001277\n",
      "         ripoff -2.087076\n",
      "           yuck -2.099003\n",
      "      cancelled -2.139168\n",
      "       terrible -2.157024\n",
      "            ick -2.269972\n",
      "  dissapointing -2.270117\n",
      "    embarrassed -2.308121\n",
      "      deceptive -2.317174\n",
      " disappointment -2.320441\n",
      "    unappealing -2.335581\n",
      "    undrinkable -2.386631\n",
      "      redeeming -2.420052\n",
      "        weakest -2.432500\n",
      "       mediocre -2.503004\n",
      "   unacceptable -2.668407\n",
      "  disappointing -2.705165\n",
      "          worst -2.822152\n"
     ]
    }
   ],
   "source": [
    "show_p_n_top20(c,clf)"
   ]
  },
  {
   "cell_type": "markdown",
   "metadata": {},
   "source": [
    "从上面的结果可以看出，有一些词汇是没有意义的，并且词汇对应的系数太小，没有凸显出对结果的预测能力，需要换一种技术"
   ]
  },
  {
   "cell_type": "markdown",
   "metadata": {},
   "source": [
    "下面用Tfidf来处理文本数据"
   ]
  },
  {
   "cell_type": "code",
   "execution_count": 9,
   "metadata": {},
   "outputs": [],
   "source": [
    "tfidf = TfidfVectorizer(stop_words='english')\n",
    "lr_tfidf = LogisticRegression()"
   ]
  },
  {
   "cell_type": "code",
   "execution_count": 15,
   "metadata": {},
   "outputs": [
    {
     "name": "stdout",
     "output_type": "stream",
     "text": [
      "feature:114966\n",
      "Model Accuracy:0.9263628475082655\n"
     ]
    }
   ],
   "source": [
    "X_tfidf = tfidf.fit_transform(X)\n",
    "print(\"feature:{}\".format(X_tfidf.shape[1]))\n",
    "X_train,X_test,y_train,y_test = train_test_split(X_tfidf,y,random_state=0)\n",
    "clf = lr_tfidf.fit(X_train,y_train)\n",
    "acc = clf.score(X_test,y_test)\n",
    "print(\"Model Accuracy:{}\".format(acc))"
   ]
  },
  {
   "cell_type": "code",
   "execution_count": 16,
   "metadata": {},
   "outputs": [
    {
     "name": "stdout",
     "output_type": "stream",
     "text": [
      "Top 20 positive\n",
      "       Word       Coef\n",
      "      great  13.731183\n",
      "  delicious  12.123467\n",
      "       best  11.506492\n",
      "    perfect  10.020161\n",
      "  excellent   9.189412\n",
      "     highly   8.926628\n",
      "      loves   8.596985\n",
      "  wonderful   8.031703\n",
      "       love   8.004626\n",
      "    amazing   7.413560\n",
      "       good   7.399389\n",
      "    awesome   7.223602\n",
      "   favorite   6.596850\n",
      "    pleased   6.556776\n",
      "     smooth   6.555129\n",
      "       nice   6.503986\n",
      "       glad   6.282333\n",
      "     hooked   6.265523\n",
      " pleasantly   6.183926\n",
      "      yummy   6.096321\n",
      "\n",
      "Top 20 negative\n",
      "           Word       Coef\n",
      "          hopes  -5.383322\n",
      "          gross  -5.501086\n",
      "          worse  -5.834933\n",
      "           yuck  -5.969105\n",
      "           weak  -6.018109\n",
      "     disgusting  -6.060977\n",
      "          waste  -6.161131\n",
      "          bland  -6.194964\n",
      "      tasteless  -6.201613\n",
      "          stale  -6.460918\n",
      "         return  -6.747469\n",
      "          threw  -6.752924\n",
      "  unfortunately  -6.775694\n",
      "       horrible  -7.411497\n",
      "   disappointed  -8.165174\n",
      "          awful  -8.279645\n",
      " disappointment  -8.414242\n",
      "       terrible  -8.790364\n",
      "  disappointing  -9.631201\n",
      "          worst -11.207805\n"
     ]
    }
   ],
   "source": [
    "show_p_n_top20(tfidf,clf)"
   ]
  },
  {
   "cell_type": "markdown",
   "metadata": {},
   "source": [
    "从上面的结果可以看出来，准确率是没有什么变化的，但是筛选出来的词汇变得更有意义了，而且每个词汇对应的系数都提高了，说明Tfidf模型的效果要更好一些"
   ]
  },
  {
   "cell_type": "markdown",
   "metadata": {},
   "source": [
    "下面使用带有n-grams的技术尝试效果"
   ]
  },
  {
   "cell_type": "code",
   "execution_count": 22,
   "metadata": {},
   "outputs": [],
   "source": [
    "tfidf_ngram = TfidfVectorizer(ngram_range=(1,2),stop_words='english')\n",
    "lr_tfidf_ngram = LogisticRegression()"
   ]
  },
  {
   "cell_type": "code",
   "execution_count": 23,
   "metadata": {},
   "outputs": [
    {
     "name": "stdout",
     "output_type": "stream",
     "text": [
      "feature:3933091\n",
      "Model Accuracy:0.9247481903757647\n"
     ]
    }
   ],
   "source": [
    "X_tfidf_ngram = tfidf_ngram.fit_transform(X)\n",
    "print(\"feature:{}\".format(X_tfidf_ngram.shape[1]))\n",
    "X_train,X_test,y_train,y_test = train_test_split(X_tfidf_ngram,y,random_state=0)\n",
    "clf = lr_tfidf_ngram.fit(X_train,y_train)\n",
    "acc = clf.score(X_test,y_test)\n",
    "print(\"Model Accuracy:{}\".format(acc))"
   ]
  },
  {
   "cell_type": "code",
   "execution_count": 19,
   "metadata": {},
   "outputs": [
    {
     "name": "stdout",
     "output_type": "stream",
     "text": [
      "Top 20 positive\n",
      "             Word       Coef\n",
      "            great  20.331988\n",
      "             best  16.629805\n",
      "        delicious  16.415810\n",
      "          perfect  13.323358\n",
      "             love  12.489201\n",
      "        excellent  12.102324\n",
      "            loves  11.721839\n",
      "             good  11.043472\n",
      "        wonderful  10.830321\n",
      "         favorite   9.619220\n",
      "             nice   9.575506\n",
      "          amazing   9.093219\n",
      "             easy   8.716374\n",
      "          awesome   8.524229\n",
      "            tasty   8.388315\n",
      "            happy   8.367787\n",
      "          pleased   8.234473\n",
      "           highly   8.231344\n",
      "           smooth   7.923612\n",
      " highly recommend   7.725262\n",
      "\n",
      "Top 20 negative\n",
      "           Word       Coef\n",
      "          waste  -7.384519\n",
      "            bad  -7.454619\n",
      "        thought  -7.491295\n",
      "      tasteless  -7.513624\n",
      "          worse  -7.525152\n",
      "     disgusting  -7.711821\n",
      "          money  -7.818462\n",
      "           weak  -8.665557\n",
      "          bland  -8.711721\n",
      "          threw  -8.816860\n",
      "          stale  -9.578499\n",
      "         return  -9.684988\n",
      "  unfortunately  -9.910057\n",
      " disappointment -10.031841\n",
      "       horrible -10.443090\n",
      "          awful -11.315061\n",
      "       terrible -11.992029\n",
      "  disappointing -12.263006\n",
      "   disappointed -13.828212\n",
      "          worst -13.850901\n"
     ]
    }
   ],
   "source": [
    "show_p_n_top20(tfidf_ngram,clf)"
   ]
  },
  {
   "cell_type": "markdown",
   "metadata": {},
   "source": [
    "从上面的结果可以看出来，在使用了n-grams之后，模型预测的准确率没有什么变化，但是每个词汇对应的系数都提升了，证明这个模型会更好一点"
   ]
  },
  {
   "cell_type": "markdown",
   "metadata": {},
   "source": [
    "下面更改了n-grams中N的值来看看有什么效果"
   ]
  },
  {
   "cell_type": "markdown",
   "metadata": {},
   "source": [
    "之前n-grams使用的是（1，2），模型的准确率没有什么变化，但是词汇对应的系数都提高了，证明选择出来的词汇更有意义，对结果的影响力更大。现在尝试使用其他的参数值来看看有什么效果"
   ]
  },
  {
   "cell_type": "markdown",
   "metadata": {},
   "source": [
    "尝试一下n-grams=(1,3)的情况"
   ]
  },
  {
   "cell_type": "code",
   "execution_count": 17,
   "metadata": {},
   "outputs": [],
   "source": [
    "tfidf_ngram_1_3 = TfidfVectorizer(ngram_range=(1,3),stop_words='english')\n",
    "lr_tfidf_1_3 = LogisticRegression()"
   ]
  },
  {
   "cell_type": "code",
   "execution_count": 18,
   "metadata": {},
   "outputs": [
    {
     "name": "stdout",
     "output_type": "stream",
     "text": [
      "feature:13766793\n"
     ]
    },
    {
     "name": "stderr",
     "output_type": "stream",
     "text": [
      "D:\\ana\\lib\\site-packages\\sklearn\\linear_model\\logistic.py:433: FutureWarning: Default solver will be changed to 'lbfgs' in 0.22. Specify a solver to silence this warning.\n",
      "  FutureWarning)\n"
     ]
    },
    {
     "name": "stdout",
     "output_type": "stream",
     "text": [
      "Model Accuracy:0.9159719247372063\n"
     ]
    }
   ],
   "source": [
    "X_tfidf_ngram_1_3 = tfidf_ngram_1_3.fit_transform(X)\n",
    "print(\"feature:{}\".format(X_tfidf_ngram_1_3.shape[1]))\n",
    "X_train,X_test,y_train,y_test = train_test_split(X_tfidf_ngram_1_3,y,random_state=0)\n",
    "clf = lr_tfidf_1_3.fit(X_train,y_train)\n",
    "acc = clf.score(X_test,y_test)\n",
    "print(\"Model Accuracy:{}\".format(acc))"
   ]
  },
  {
   "cell_type": "code",
   "execution_count": 14,
   "metadata": {},
   "outputs": [
    {
     "name": "stdout",
     "output_type": "stream",
     "text": [
      "Top 20 positive\n",
      "      Word       Coef\n",
      "     great  24.969415\n",
      "      best  19.542463\n",
      " delicious  18.318912\n",
      "      love  15.607212\n",
      "   perfect  14.824345\n",
      "      good  13.514419\n",
      " excellent  13.377788\n",
      "     loves  13.321796\n",
      " wonderful  12.072559\n",
      "  favorite  11.288808\n",
      "      nice  11.257812\n",
      "      easy  10.225125\n",
      "     happy   9.603495\n",
      "   amazing   9.602861\n",
      "     tasty   9.592045\n",
      "    highly   9.288934\n",
      "   pleased   8.811716\n",
      "   awesome   8.794841\n",
      "    smooth   8.540949\n",
      "      glad   8.148271\n",
      "\n",
      "Top 20 negative\n",
      "           Word       Coef\n",
      "          worse  -8.021963\n",
      "     disgusting  -8.426136\n",
      "          maybe  -8.623589\n",
      "          waste  -9.127250\n",
      "        thought  -9.671207\n",
      "          bland  -9.724307\n",
      "           weak  -9.811609\n",
      "          threw  -9.907869\n",
      "            bad -10.206661\n",
      "          money -10.260387\n",
      " disappointment -10.505697\n",
      "          stale -11.177395\n",
      "         return -11.225381\n",
      "  unfortunately -11.227244\n",
      "       horrible -12.134441\n",
      "          awful -12.942507\n",
      "  disappointing -13.083300\n",
      "       terrible -13.500711\n",
      "          worst -15.030374\n",
      "   disappointed -17.076184\n"
     ]
    }
   ],
   "source": [
    "show_p_n_top20(tfidf_ngram_1_3,clf)"
   ]
  },
  {
   "cell_type": "markdown",
   "metadata": {},
   "source": [
    "模型的预测准确率没有明显的变化，就是词汇对应的系数有了进一步的提升，但是提升效果已经不明显了"
   ]
  },
  {
   "cell_type": "code",
   "execution_count": 16,
   "metadata": {},
   "outputs": [],
   "source": [
    "tfidf_ngram_1_4 = TfidfVectorizer(ngram_range=(1,4),stop_words='english')\n",
    "lr_tfidf_ngram_1_4 = LogisticRegression()"
   ]
  },
  {
   "cell_type": "code",
   "execution_count": 17,
   "metadata": {},
   "outputs": [
    {
     "name": "stdout",
     "output_type": "stream",
     "text": [
      "feature:25244472\n"
     ]
    },
    {
     "name": "stderr",
     "output_type": "stream",
     "text": [
      "D:\\ana\\lib\\site-packages\\sklearn\\linear_model\\logistic.py:433: FutureWarning: Default solver will be changed to 'lbfgs' in 0.22. Specify a solver to silence this warning.\n",
      "  FutureWarning)\n"
     ]
    },
    {
     "name": "stdout",
     "output_type": "stream",
     "text": [
      "Model Accuracty:0.9083489856218627\n"
     ]
    }
   ],
   "source": [
    "X_tfidf_ngram_1_4 = tfidf_ngram_1_4.fit_transform(X)\n",
    "print(\"feature:{}\".format(X_tfidf_ngram_1_4.shape[1]))\n",
    "X_train,X_test,y_train,y_test = train_test_split(X_tfidf_ngram_1_4,y,random_state=0)\n",
    "clf = lr_tfidf_ngram_1_4.fit(X_train,y_train)\n",
    "acc = clf.score(X_test,y_test)\n",
    "print(\"Model Accuracty:{}\".format(acc))"
   ]
  },
  {
   "cell_type": "code",
   "execution_count": 18,
   "metadata": {},
   "outputs": [
    {
     "name": "stdout",
     "output_type": "stream",
     "text": [
      "Top 20 positive\n",
      "      Word       Coef\n",
      "     great  27.597481\n",
      "      best  20.993764\n",
      " delicious  19.096854\n",
      "      love  17.388481\n",
      "   perfect  15.454223\n",
      "      good  14.887983\n",
      "     loves  14.037396\n",
      " excellent  13.845947\n",
      " wonderful  12.541767\n",
      "  favorite  12.079352\n",
      "      nice  12.029410\n",
      "      easy  10.978152\n",
      "     happy  10.086977\n",
      "     tasty  10.076320\n",
      "    highly   9.838453\n",
      "   amazing   9.665637\n",
      "   pleased   8.916508\n",
      "   awesome   8.754552\n",
      "    stores   8.732621\n",
      "    smooth   8.721931\n",
      "\n",
      "Top 20 negative\n",
      "           Word       Coef\n",
      "     disgusting  -8.676041\n",
      "            did  -8.774099\n",
      "          maybe  -9.489500\n",
      "          bland -10.017710\n",
      "          waste -10.187399\n",
      "           weak -10.209625\n",
      "          threw -10.434257\n",
      " disappointment -10.533769\n",
      "        thought -10.941092\n",
      "  unfortunately -11.697725\n",
      "          money -11.815770\n",
      "          stale -11.894359\n",
      "            bad -11.983506\n",
      "         return -12.000765\n",
      "       horrible -12.949886\n",
      "  disappointing -13.229806\n",
      "          awful -13.654360\n",
      "       terrible -14.152674\n",
      "          worst -15.460980\n",
      "   disappointed -18.840369\n"
     ]
    }
   ],
   "source": [
    "show_p_n_top20(tfidf_ngram_1_4,clf)"
   ]
  },
  {
   "cell_type": "markdown",
   "metadata": {},
   "source": [
    "可以看出来，对于n-grams模型中的N来说，当N越大时，可以提取出来的信息量就越多，但是随着N的增加，数据的信息量增长的速度放缓，所以从这个实验可以看出一味的提升N并不一定可以提升模型的性能。最常用的N一般是2或3，从实际来看当N等于2时，预测的准确率也是最高的"
   ]
  },
  {
   "cell_type": "markdown",
   "metadata": {},
   "source": [
    "之前对文本数据的预处理阶段只是做了去重的操作，下面想对文本做一些其他的处理，比如去掉一些额外的符号、转化小写、去除停用词等等操作，然后再看看这个文本数据的表现"
   ]
  },
  {
   "cell_type": "code",
   "execution_count": 8,
   "metadata": {},
   "outputs": [
    {
     "name": "stdout",
     "output_type": "stream",
     "text": [
      "upvote percentage: 0.5\n",
      "downvote pencentage: 0.5\n",
      "record: 17154\n"
     ]
    },
    {
     "name": "stderr",
     "output_type": "stream",
     "text": [
      "D:\\ana\\lib\\site-packages\\ipykernel_launcher.py:3: SettingWithCopyWarning: \n",
      "A value is trying to be set on a copy of a slice from a DataFrame.\n",
      "Try using .loc[row_indexer,col_indexer] = value instead\n",
      "\n",
      "See the caveats in the documentation: http://pandas.pydata.org/pandas-docs/stable/indexing.html#indexing-view-versus-copy\n",
      "  This is separate from the ipykernel package so we can avoid doing imports until\n",
      "D:\\ana\\lib\\site-packages\\ipykernel_launcher.py:12: DeprecationWarning: \n",
      ".ix is deprecated. Please use\n",
      ".loc for label based indexing or\n",
      ".iloc for positional indexing\n",
      "\n",
      "See the documentation here:\n",
      "http://pandas.pydata.org/pandas-docs/stable/indexing.html#ix-indexer-is-deprecated\n",
      "  if sys.path[0] == '':\n"
     ]
    }
   ],
   "source": [
    "'''\n",
    "data_3 = data[data['Score'] != 3]\n",
    "y_mapping = {'0-20%':0,'20%-40%':0,'60%-80%':1,'80%-100%':1}\n",
    "data_3['upvote'] = data_3['upvote'].map(y_mapping)\n",
    "downvote_word2vec_data = len(data_3[data_3['upvote'] == 0])\n",
    "downvote_word2vec_indices = np.array(data_3[data_3['upvote'] == 0].index)\n",
    "upvote_word2vec_indices = data_3[data_3['upvote'] == 1].index\n",
    "random_upvote_indices = np.random.choice(upvote_word2vec_indices,downvote_word2vec_data,replace=False)\n",
    "random_upvote_indices = np.array(random_upvote_indices)\n",
    "\n",
    "#combine\n",
    "sample_word2vec_data = np.concatenate([downvote_word2vec_indices,random_upvote_indices])\n",
    "sample_word2vec_data = data_3.ix[sample_word2vec_data,:]\n",
    "X_sample_word2vec_data = sample_word2vec_data['Text']\n",
    "sample_word2vec_data['upvote'] = sample_word2vec_data['upvote'].astype(int)\n",
    "y_sample_word2vec_data = sample_word2vec_data['upvote']\n",
    "\n",
    "#Display data status\n",
    "print(\"upvote percentage:\",len(sample_word2vec_data[sample_word2vec_data['upvote'] == 1])/len(sample_word2vec_data))\n",
    "print(\"downvote pencentage:\",len(sample_word2vec_data[sample_word2vec_data['upvote'] == 0])/len(sample_word2vec_data))\n",
    "print(\"record:\",len(sample_word2vec_data))\n",
    "'''"
   ]
  },
  {
   "cell_type": "code",
   "execution_count": 10,
   "metadata": {},
   "outputs": [],
   "source": [
    "stop_words = set(stopwords.words('english'))"
   ]
  },
  {
   "cell_type": "code",
   "execution_count": 11,
   "metadata": {},
   "outputs": [],
   "source": [
    "import re\n",
    "words = []\n",
    "snow = nltk.stem.SnowballStemmer('english')\n",
    "for sentence in X:\n",
    "    #转换为小写\n",
    "    sentence = sentence.lower()\n",
    "    r = re.compile('<.*?>')\n",
    "    sentence = re.sub(r,' ',sentence)\n",
    "    sentence = re.sub(r'[?|!|\\|\"|#]',r'',sentence)\n",
    "    sentence = re.sub(r'[.|,|)|(|\\|/]',r' ',sentence)\n",
    "    temp = [snow.stem(word) for word in sentence.split() if word not in stop_words]\n",
    "    words.append(temp)\n",
    "modify_data = words  "
   ]
  },
  {
   "cell_type": "code",
   "execution_count": 13,
   "metadata": {},
   "outputs": [],
   "source": [
    "sentence = []\n",
    "for row in modify_data:\n",
    "    seq = ''\n",
    "    for word in row:\n",
    "        seq  = seq + ' ' + word\n",
    "    sentence.append(seq)\n",
    "modify_data = sentence"
   ]
  },
  {
   "cell_type": "code",
   "execution_count": 18,
   "metadata": {},
   "outputs": [],
   "source": [
    "modify_data_ngram_2 = TfidfVectorizer(ngram_range=(1,2),stop_words='english')\n",
    "modify_lr = LogisticRegression()"
   ]
  },
  {
   "cell_type": "code",
   "execution_count": 19,
   "metadata": {},
   "outputs": [
    {
     "name": "stdout",
     "output_type": "stream",
     "text": [
      "feature:3011523\n"
     ]
    },
    {
     "name": "stderr",
     "output_type": "stream",
     "text": [
      "D:\\ana\\lib\\site-packages\\sklearn\\linear_model\\logistic.py:433: FutureWarning: Default solver will be changed to 'lbfgs' in 0.22. Specify a solver to silence this warning.\n",
      "  FutureWarning)\n"
     ]
    },
    {
     "name": "stdout",
     "output_type": "stream",
     "text": [
      "Model Accuracty:0.9231005810568864\n"
     ]
    }
   ],
   "source": [
    "modify_data_ngram_2 = modify_data_ngram_2.fit_transform(modify_data)\n",
    "print(\"feature:{}\".format(modify_data_ngram_2.shape[1]))\n",
    "X_train,X_test,y_train,y_test = train_test_split(modify_data_ngram_2,y,random_state=0)\n",
    "clf = modify_lr.fit(X_train,y_train)\n",
    "acc = clf.score(X_test,y_test)\n",
    "print(\"Model Accuracty:{}\".format(acc))"
   ]
  },
  {
   "cell_type": "code",
   "execution_count": null,
   "metadata": {},
   "outputs": [],
   "source": []
  },
  {
   "cell_type": "code",
   "execution_count": null,
   "metadata": {},
   "outputs": [],
   "source": []
  },
  {
   "cell_type": "code",
   "execution_count": null,
   "metadata": {},
   "outputs": [],
   "source": []
  },
  {
   "cell_type": "code",
   "execution_count": null,
   "metadata": {},
   "outputs": [],
   "source": []
  },
  {
   "cell_type": "code",
   "execution_count": null,
   "metadata": {},
   "outputs": [
    {
     "name": "stderr",
     "output_type": "stream",
     "text": [
      "D:\\ana\\lib\\site-packages\\gensim\\models\\base_any2vec.py:743: UserWarning: C extension not loaded, training will be slow. Install a C compiler and reinstall gensim for fast training.\n",
      "  \"C extension not loaded, training will be slow. \"\n"
     ]
    }
   ],
   "source": [
    "'''w2v_data = modify_data\n",
    "\n",
    "split = []\n",
    "for row in w2v_data:\n",
    "    split.append([word for word in row.split()])\n",
    "    \n",
    "w2v_data = Word2Vec(split,min_count=5,workers=2)\n",
    "'''"
   ]
  },
  {
   "cell_type": "markdown",
   "metadata": {},
   "source": [
    "下面我打算找出成绩为5的数据，并基于此数据找出不满意的评论，并根据这个促进销售"
   ]
  },
  {
   "cell_type": "code",
   "execution_count": 9,
   "metadata": {},
   "outputs": [
    {
     "name": "stdout",
     "output_type": "stream",
     "text": [
      "Classs:\n",
      "1    108242\n",
      "0      1781\n",
      "Name: upvote, dtype: int64\n"
     ]
    }
   ],
   "source": [
    "data_score_5 = data[data['Score'] == 5]\n",
    "data_score_5 = data_score_5[data_score_5['upvote'].isin(['0-20%','20%-40%','60%-80%','80%-100%'])]\n",
    "\n",
    "X = data_score_5['Text']\n",
    "y_dict = {'0-20%':0,'20%-40%':0,'60%-80%':1,'80%-100%':1}\n",
    "y = data_score_5['upvote'].map(y_dict)\n",
    "\n",
    "print(\"Classs:\")\n",
    "print(y.value_counts())"
   ]
  },
  {
   "cell_type": "markdown",
   "metadata": {},
   "source": [
    "从上面的结果可以很明显的看出，正面和负面的评论数量有着严重的不平衡问题，需要先解决这个问题，需要对样本进行重新采样，以获得平衡数据"
   ]
  },
  {
   "cell_type": "markdown",
   "metadata": {},
   "source": [
    "对于不平衡数据来说，比较常用的处理方式可以分为：\n",
    "#欠采样：通过减少多数类别的样本数量，随机的从多数类样本中挑选与少数类数目一样的样本，然后与少数类组合起来构成平衡样本\n",
    "#过采样：使用随机的方式来增加稀疏样本的数量，随机的从少数类的样本中抽取样本，产生的样本数量要与多数类的样本数量保持一致，然后在组合起来"
   ]
  },
  {
   "cell_type": "markdown",
   "metadata": {},
   "source": [
    "下面我打算两种方式都尝试一下"
   ]
  },
  {
   "cell_type": "markdown",
   "metadata": {},
   "source": [
    "欠采样"
   ]
  },
  {
   "cell_type": "code",
   "execution_count": 10,
   "metadata": {},
   "outputs": [],
   "source": [
    "data_5 = pd.DataFrame([X,y]).T"
   ]
  },
  {
   "cell_type": "code",
   "execution_count": 27,
   "metadata": {},
   "outputs": [
    {
     "name": "stdout",
     "output_type": "stream",
     "text": [
      "upvote percentage: 0.5\n",
      "downvote pencentage: 0.5\n",
      "record: 3562\n"
     ]
    },
    {
     "name": "stderr",
     "output_type": "stream",
     "text": [
      "D:\\ana\\lib\\site-packages\\ipykernel_launcher.py:9: DeprecationWarning: \n",
      ".ix is deprecated. Please use\n",
      ".loc for label based indexing or\n",
      ".iloc for positional indexing\n",
      "\n",
      "See the documentation here:\n",
      "http://pandas.pydata.org/pandas-docs/stable/indexing.html#ix-indexer-is-deprecated\n",
      "  if __name__ == '__main__':\n"
     ]
    }
   ],
   "source": [
    "downvote = len(data_5[data_5['upvote'] == 0])\n",
    "downvote_indices = np.array(data_5[data_5['upvote'] == 0].index)\n",
    "upvote_indices = data_5[data_5['upvote'] == 1].index\n",
    "random_upvote_indices = np.random.choice(upvote_indices,downvote,replace=False)\n",
    "random_upvote_indices = np.array(random_upvote_indices)\n",
    "\n",
    "#combine\n",
    "undersampling_sample_data = np.concatenate([downvote_indices,random_upvote_indices])\n",
    "undersampling_sample_data = data_5.ix[undersampling_sample_data,:]\n",
    "X_sample_data = undersampling_sample_data['Text']\n",
    "undersampling_sample_data['upvote'] = undersampling_sample_data['upvote'].astype(int)\n",
    "y_sample_data = undersampling_sample_data['upvote']\n",
    "\n",
    "#Display data status\n",
    "print(\"upvote percentage:\",len(undersampling_sample_data[undersampling_sample_data['upvote'] == 1])/len(undersampling_sample_data))\n",
    "print(\"downvote pencentage:\",len(undersampling_sample_data[undersampling_sample_data['upvote'] == 0])/len(undersampling_sample_data))\n",
    "print(\"record:\",len(undersampling_sample_data))"
   ]
  },
  {
   "cell_type": "code",
   "execution_count": 12,
   "metadata": {},
   "outputs": [],
   "source": [
    "c = CountVectorizer(stop_words='english')\n",
    "lr_c = LogisticRegression()"
   ]
  },
  {
   "cell_type": "code",
   "execution_count": 13,
   "metadata": {},
   "outputs": [
    {
     "name": "stdout",
     "output_type": "stream",
     "text": [
      "feature:14293\n"
     ]
    },
    {
     "name": "stderr",
     "output_type": "stream",
     "text": [
      "D:\\ana\\lib\\site-packages\\sklearn\\linear_model\\logistic.py:433: FutureWarning: Default solver will be changed to 'lbfgs' in 0.22. Specify a solver to silence this warning.\n",
      "  FutureWarning)\n"
     ]
    },
    {
     "name": "stdout",
     "output_type": "stream",
     "text": [
      "Model Accuracy:0.6083052749719416\n"
     ]
    }
   ],
   "source": [
    "X_c = c.fit_transform(X_sample_data)\n",
    "print(\"feature:{}\".format(X_c.shape[1]))\n",
    "X_train,X_test,y_train,y_test = train_test_split(X_c,y_sample_data,random_state=0)\n",
    "clf = lr_c.fit(X_train,y_train)\n",
    "acc = clf.score(X_test,y_test)\n",
    "print(\"Model Accuracy:{}\".format(acc))"
   ]
  },
  {
   "cell_type": "code",
   "execution_count": 16,
   "metadata": {},
   "outputs": [
    {
     "name": "stdout",
     "output_type": "stream",
     "text": [
      "Top 20 positive\n",
      "         Word      Coef\n",
      "   satisfying  1.385830\n",
      "        soups  1.272362\n",
      "         aren  1.207330\n",
      "      locally  1.205441\n",
      "         chip  1.140293\n",
      "       plenty  1.129282\n",
      "         rice  1.076600\n",
      " discontinued  1.034186\n",
      "        ready  1.028646\n",
      "          lot  1.009308\n",
      "        fresh  1.002810\n",
      "      wrapped  0.972904\n",
      "      polenta  0.962462\n",
      "        lower  0.940325\n",
      "       issues  0.930297\n",
      "       bodied  0.896076\n",
      "     dressing  0.891062\n",
      "     hazelnut  0.884620\n",
      "  alternative  0.883908\n",
      "    packaging  0.882446\n",
      "\n",
      "Top 20 negative\n",
      "        Word      Coef\n",
      "       ounce -0.790713\n",
      "         man -0.797334\n",
      "        dick -0.798905\n",
      "      prompt -0.807774\n",
      "      caviar -0.835183\n",
      "       shake -0.858117\n",
      "    packages -0.895400\n",
      "        face -0.910357\n",
      "       count -0.911644\n",
      "       gonna -0.942460\n",
      "      course -0.946968\n",
      "      packed -0.949852\n",
      " traditional -0.966823\n",
      "        zico -0.968097\n",
      "     dollars -1.012717\n",
      "      vacuum -1.017197\n",
      "     gourmet -1.065076\n",
      "      lipton -1.164669\n",
      "       kashi -1.267402\n",
      "    brooklyn -1.343720\n"
     ]
    }
   ],
   "source": [
    "show_p_n_top20(c,clf)"
   ]
  },
  {
   "cell_type": "markdown",
   "metadata": {},
   "source": [
    "模型准确率为60.8%，模型预测的结果很差，而且top20的词汇都是一些没有意义的，且系数很小，说明这个模型并不好，下面换一个tfidf+ngram的模型"
   ]
  },
  {
   "cell_type": "code",
   "execution_count": 17,
   "metadata": {},
   "outputs": [],
   "source": [
    "tfidf_ngram = TfidfVectorizer(ngram_range=(1,2),stop_words='english')\n",
    "lr_tfidf_ngram = LogisticRegression()"
   ]
  },
  {
   "cell_type": "code",
   "execution_count": 18,
   "metadata": {},
   "outputs": [
    {
     "name": "stdout",
     "output_type": "stream",
     "text": [
      "feature:115443\n",
      "Model Accuracy:0.6139169472502806\n"
     ]
    }
   ],
   "source": [
    "X_tfidf_ngram = tfidf_ngram.fit_transform(X_sample_data)\n",
    "print(\"feature:{}\".format(X_tfidf_ngram.shape[1]))\n",
    "X_train,X_test,y_train,y_test = train_test_split(X_tfidf_ngram,y_sample_data,random_state=0)\n",
    "clf = lr_tfidf_ngram.fit(X_train,y_train)\n",
    "acc = clf.score(X_test,y_test)\n",
    "print(\"Model Accuracy:{}\".format(acc))"
   ]
  },
  {
   "cell_type": "code",
   "execution_count": 19,
   "metadata": {},
   "outputs": [
    {
     "name": "stdout",
     "output_type": "stream",
     "text": [
      "Top 20 positive\n",
      "   Word      Coef\n",
      "   food  1.794306\n",
      " flavor  1.514388\n",
      "    mix  1.452837\n",
      "   rice  1.372825\n",
      "  fresh  1.294679\n",
      "     ve  1.278080\n",
      "  bread  1.238636\n",
      "    lot  1.094500\n",
      "    bag  1.078709\n",
      "    oil  1.051109\n",
      "    tea  0.956732\n",
      " family  0.941041\n",
      "    cup  0.932672\n",
      " little  0.875884\n",
      "  local  0.872869\n",
      "  using  0.870888\n",
      "  sugar  0.870824\n",
      "  tried  0.831165\n",
      " gluten  0.809098\n",
      "   year  0.802689\n",
      "\n",
      "Top 20 negative\n",
      "         Word      Coef\n",
      "         said -0.589332\n",
      "         zico -0.610203\n",
      "         item -0.612801\n",
      "       newman -0.617785\n",
      "       lipton -0.622774\n",
      "       caviar -0.622780\n",
      "      bottles -0.633088\n",
      "        ounce -0.669767\n",
      "     brooklyn -0.670501\n",
      "     delivery -0.697399\n",
      "       people -0.727941\n",
      "       treats -0.728432\n",
      "       bottle -0.728589\n",
      "      service -0.763723\n",
      " great coffee -0.766848\n",
      "      product -0.966277\n",
      "        order -1.012791\n",
      "       coffee -1.105332\n",
      "           br -1.365488\n",
      "        water -1.691325\n"
     ]
    }
   ],
   "source": [
    "show_p_n_top20(tfidf_ngram,clf)"
   ]
  },
  {
   "cell_type": "markdown",
   "metadata": {},
   "source": [
    "结果的预测准确率为61.4%，虽然有所提高，但是依然很差，并且词汇仍然都是一些没有意义的"
   ]
  },
  {
   "cell_type": "markdown",
   "metadata": {},
   "source": [
    "下面尝试用过采样的方式"
   ]
  },
  {
   "cell_type": "code",
   "execution_count": 26,
   "metadata": {},
   "outputs": [
    {
     "name": "stdout",
     "output_type": "stream",
     "text": [
      "upvote percentage: 0.5\n",
      "downvote pencentage: 0.5\n",
      "record: 216484\n"
     ]
    },
    {
     "name": "stderr",
     "output_type": "stream",
     "text": [
      "D:\\ana\\lib\\site-packages\\ipykernel_launcher.py:10: DeprecationWarning: \n",
      ".ix is deprecated. Please use\n",
      ".loc for label based indexing or\n",
      ".iloc for positional indexing\n",
      "\n",
      "See the documentation here:\n",
      "http://pandas.pydata.org/pandas-docs/stable/indexing.html#ix-indexer-is-deprecated\n",
      "  # Remove the CWD from sys.path while we load stuff.\n"
     ]
    }
   ],
   "source": [
    "downvote = len(data_5[data_5['upvote'] == 0])\n",
    "downvote_indices = np.array(data_5[data_5['upvote'] == 0].index)\n",
    "upvote_indices = data_5[data_5['upvote'] == 1].index\n",
    "upvote = len(data_5[data_5['upvote'] == 1])\n",
    "random_downvote_indices = np.random.choice(downvote_indices,upvote,replace=True)\n",
    "random_downvote_indices = np.array(random_downvote_indices)\n",
    "\n",
    "#combine\n",
    "oversampling_sample_data = np.concatenate([random_downvote_indices,upvote_indices])\n",
    "oversampling_sample_data = data_5.ix[oversampling_sample_data,:]\n",
    "X_sample_data = oversampling_sample_data['Text']\n",
    "oversampling_sample_data['upvote'] = oversampling_sample_data['upvote'].astype(int)\n",
    "y_sample_data = oversampling_sample_data['upvote']\n",
    "\n",
    "#Display data status\n",
    "print(\"upvote percentage:\",len(oversampling_sample_data[oversampling_sample_data['upvote'] == 1])/len(oversampling_sample_data))\n",
    "print(\"downvote pencentage:\",len(oversampling_sample_data[oversampling_sample_data['upvote'] == 0])/len(oversampling_sample_data))\n",
    "print(\"record:\",len(oversampling_sample_data))"
   ]
  },
  {
   "cell_type": "markdown",
   "metadata": {},
   "source": [
    "下面使用tfidf+ngram的模式来看看效果"
   ]
  },
  {
   "cell_type": "code",
   "execution_count": 21,
   "metadata": {},
   "outputs": [],
   "source": [
    "tfidf_ngram_2 = TfidfVectorizer(ngram_range=(1,2),stop_words='english')\n",
    "lr_tfidf_ngram_2 = LogisticRegression()"
   ]
  },
  {
   "cell_type": "code",
   "execution_count": 22,
   "metadata": {},
   "outputs": [
    {
     "name": "stdout",
     "output_type": "stream",
     "text": [
      "feature:1792465\n",
      "Model Accuracy:0.9971914783540585\n"
     ]
    }
   ],
   "source": [
    "X_tfidf_ngram_2 = tfidf_ngram_2.fit_transform(X_sample_data)\n",
    "print(\"feature:{}\".format(X_tfidf_ngram_2.shape[1]))\n",
    "X_train,X_test,y_train,y_test = train_test_split(X_tfidf_ngram_2,y_sample_data,random_state=0)\n",
    "clf = lr_tfidf_ngram_2.fit(X_train,y_train)\n",
    "acc = clf.score(X_test,y_test)\n",
    "print(\"Model Accuracy:{}\".format(acc))"
   ]
  },
  {
   "cell_type": "code",
   "execution_count": 23,
   "metadata": {
    "scrolled": true
   },
   "outputs": [
    {
     "name": "stdout",
     "output_type": "stream",
     "text": [
      "Top 20 positive\n",
      "        Word      Coef\n",
      "         lot  3.871871\n",
      "       fresh  3.850448\n",
      "      ginger  3.496564\n",
      "       boxes  3.379511\n",
      "     mustard  3.333140\n",
      "        chai  3.273890\n",
      "          ve  3.152628\n",
      "   allergies  3.111978\n",
      " great value  3.084394\n",
      "     dessert  3.061939\n",
      "      bitter  3.045501\n",
      "      stevia  3.024921\n",
      "         mix  2.967992\n",
      "         bag  2.959032\n",
      "   container  2.958419\n",
      "       light  2.833507\n",
      "        true  2.822663\n",
      "        heat  2.792446\n",
      "        food  2.782800\n",
      "        kick  2.761385\n",
      "\n",
      "Top 20 negative\n",
      "         Word      Coef\n",
      "         lard -4.197187\n",
      "   think best -4.200949\n",
      "       people -4.240418\n",
      "        ramen -4.255085\n",
      "       marley -4.326909\n",
      "        kashi -4.333575\n",
      "        wrong -4.379519\n",
      "        gonna -4.412374\n",
      "       review -4.554280\n",
      "       caviar -4.556564\n",
      " great coffee -4.561297\n",
      "       lipton -4.584414\n",
      "     kombucha -4.736113\n",
      "      product -4.835458\n",
      "         item -4.902981\n",
      "       seller -4.914690\n",
      "       newman -5.215016\n",
      "          man -5.531846\n",
      "        water -6.212046\n",
      "     brooklyn -6.220739\n"
     ]
    }
   ],
   "source": [
    "show_p_n_top20(tfidf_ngram_2,clf)"
   ]
  },
  {
   "cell_type": "markdown",
   "metadata": {},
   "source": [
    "从结果可以看出，这种过采样的方式可以带来99.7%的预测准确率，乍一看这个模型是很好的，但是之所以有这样的准确率我觉得主要还是因为随机样本的选择方式上，因为我使用了有放回的方式，那么很有可能会随机到很多重复的样本，那么这时候训练数据和测试数据中就一定会有重复的情况，所以预测的结果自然就很高，另外这种差异也与过采样可以带来比欠采样要多的多的数据有一定关系，因为数据量的增加是可以提升模型的性能的。所以，这个模型的准确率其实并没有什么可参考性，对于未知数据的泛化能力不会很高"
   ]
  },
  {
   "cell_type": "markdown",
   "metadata": {},
   "source": [
    "再来看词汇对应的系数，也不是很大，所以词汇的意义还是比较小，预测的能力并不强"
   ]
  },
  {
   "cell_type": "markdown",
   "metadata": {},
   "source": [
    "鉴于上面的模型表现不佳，没有找出什么有意义的词汇，也就是基于现有的特征是无法有更好的表现了，所以下面我打算尝试构造一些新的特征，看看能不能带来更好的表现"
   ]
  },
  {
   "cell_type": "markdown",
   "metadata": {},
   "source": [
    "下面使用欠采样的数据"
   ]
  },
  {
   "cell_type": "code",
   "execution_count": 28,
   "metadata": {},
   "outputs": [],
   "source": [
    "#每条评论的单词数量\n",
    "undersampling_sample_data['words_count'] = undersampling_sample_data['Text'].apply(lambda x:len(x.split()))\n",
    "#带有问好的评论\n",
    "undersampling_sample_data['question'] = undersampling_sample_data['Text'].apply(lambda x:sum(1 for c in x if c == '?'))\n",
    "#带有感叹号的评论\n",
    "undersampling_sample_data['exclamation'] = undersampling_sample_data['Text'].apply(lambda x:sum(1 for c in x if c == '!'))\n",
    "#带有大写字母的评论\n",
    "undersampling_sample_data['capitial_count'] =undersampling_sample_data['Text'].apply(lambda x:sum(1 for c in x if c.isupper()))"
   ]
  },
  {
   "cell_type": "code",
   "execution_count": 29,
   "metadata": {},
   "outputs": [
    {
     "name": "stdout",
     "output_type": "stream",
     "text": [
      "upvote                  0          1\n",
      "words_count     77.537900  87.734980\n",
      "capitial_count  17.555306  14.834363\n",
      "question         0.175182   0.086468\n",
      "exclamation      0.874789   0.965188\n"
     ]
    }
   ],
   "source": [
    "print(undersampling_sample_data.groupby('upvote').agg({'words_count':'mean','capitial_count':'mean','question':'mean','exclamation':'mean'}).T)"
   ]
  },
  {
   "cell_type": "markdown",
   "metadata": {},
   "source": [
    "从结果可以看出，反对评论的词汇数量有77，而点赞评论的词汇数量有87；还有不管是什么评论，带有疑问的评论是很少的，但是带有感叹号的评论却很多"
   ]
  },
  {
   "cell_type": "code",
   "execution_count": 30,
   "metadata": {},
   "outputs": [],
   "source": [
    "#筛选出需要的数据\n",
    "X_counts = undersampling_sample_data[undersampling_sample_data.columns.difference(['upvote','Text'])]\n",
    "y_counts = undersampling_sample_data['upvote']"
   ]
  },
  {
   "cell_type": "code",
   "execution_count": 31,
   "metadata": {},
   "outputs": [
    {
     "name": "stdout",
     "output_type": "stream",
     "text": [
      "Model Accuracy:0.5993265993265994\n"
     ]
    }
   ],
   "source": [
    "X_train,X_test,y_train,y_test = train_test_split(X_counts,y_counts,random_state=0)\n",
    "clf_lr = LogisticRegression()\n",
    "clf_lr.fit(X_train,y_train)\n",
    "acc = clf_lr.score(X_test,y_test)\n",
    "print(\"Model Accuracy:{}\".format(acc))"
   ]
  },
  {
   "cell_type": "markdown",
   "metadata": {},
   "source": [
    "下面使用过采样的数据"
   ]
  },
  {
   "cell_type": "code",
   "execution_count": 32,
   "metadata": {},
   "outputs": [],
   "source": [
    "#每条评论的单词数量\n",
    "oversampling_sample_data['words_count'] = oversampling_sample_data['Text'].apply(lambda x:len(x.split()))\n",
    "#带有问好的评论\n",
    "oversampling_sample_data['question'] = oversampling_sample_data['Text'].apply(lambda x:sum(1 for c in x if c == '?'))\n",
    "#带有感叹号的评论\n",
    "oversampling_sample_data['exclamation'] = oversampling_sample_data['Text'].apply(lambda x:sum(1 for c in x if c == '!'))\n",
    "#带有大写字母的评论\n",
    "oversampling_sample_data['capitial_count'] =oversampling_sample_data['Text'].apply(lambda x:sum(1 for c in x if c.isupper()))"
   ]
  },
  {
   "cell_type": "code",
   "execution_count": 33,
   "metadata": {},
   "outputs": [
    {
     "name": "stdout",
     "output_type": "stream",
     "text": [
      "upvote                  0          1\n",
      "words_count     77.293740  85.721688\n",
      "capitial_count  17.517405  13.812762\n",
      "question         0.169934   0.078925\n",
      "exclamation      0.876222   0.948384\n"
     ]
    }
   ],
   "source": [
    "print(oversampling_sample_data.groupby('upvote').agg({'words_count':'mean','capitial_count':'mean','question':'mean','exclamation':'mean'}).T)"
   ]
  },
  {
   "cell_type": "markdown",
   "metadata": {},
   "source": [
    "从结果可以看出，反对评论的词汇数量有77，而点赞评论的词汇数量有85；还有不管是什么评论，带有疑问的评论是很少的，但是带有感叹号的评论却很多"
   ]
  },
  {
   "cell_type": "code",
   "execution_count": 34,
   "metadata": {},
   "outputs": [],
   "source": [
    "#筛选出需要的数据\n",
    "X_counts = oversampling_sample_data[oversampling_sample_data.columns.difference(['upvote','Text'])]\n",
    "y_counts = oversampling_sample_data['upvote']"
   ]
  },
  {
   "cell_type": "code",
   "execution_count": 35,
   "metadata": {},
   "outputs": [
    {
     "name": "stderr",
     "output_type": "stream",
     "text": [
      "D:\\ana\\lib\\site-packages\\sklearn\\linear_model\\logistic.py:433: FutureWarning: Default solver will be changed to 'lbfgs' in 0.22. Specify a solver to silence this warning.\n",
      "  FutureWarning)\n"
     ]
    },
    {
     "name": "stdout",
     "output_type": "stream",
     "text": [
      "Model Accuracy:0.5958869939579831\n"
     ]
    }
   ],
   "source": [
    "X_train,X_test,y_train,y_test = train_test_split(X_counts,y_counts,random_state=0)\n",
    "clf_lr = LogisticRegression()\n",
    "clf_lr.fit(X_train,y_train)\n",
    "acc = clf_lr.score(X_test,y_test)\n",
    "print(\"Model Accuracy:{}\".format(acc))"
   ]
  },
  {
   "cell_type": "markdown",
   "metadata": {},
   "source": [
    "但是说实话，这种构造出来的特征有点随便，是不会给预测带来什么好的提升的，这两种方式的预测准确率只有60%而已"
   ]
  },
  {
   "cell_type": "markdown",
   "metadata": {},
   "source": [
    "需要思考更多，找出更有意义的特征"
   ]
  },
  {
   "cell_type": "code",
   "execution_count": 36,
   "metadata": {},
   "outputs": [],
   "source": [
    "data_user = data.groupby(['UserId','ProfileName']).agg({'Score':['count','mean']})\n",
    "data_user.columns = data_user.columns.get_level_values(1)\n",
    "data_user.columns = ['score count','score mean']"
   ]
  },
  {
   "cell_type": "code",
   "execution_count": 37,
   "metadata": {},
   "outputs": [],
   "source": [
    "data_user = data_user.sort_values(by = 'score count',ascending=False)"
   ]
  },
  {
   "cell_type": "code",
   "execution_count": 38,
   "metadata": {},
   "outputs": [
    {
     "name": "stdout",
     "output_type": "stream",
     "text": [
      "                                                       score count  score mean\n",
      "UserId         ProfileName                                                    \n",
      "AY12DBB0U420B  Gary Peterson                                   329    4.659574\n",
      "A3OXHLG6DIBRW8 C. F. Hill \"CFH\"                                278    4.546763\n",
      "A281NPSIMI1C2R Rebecca of Amazon \"The Rebecca Review\"          259    4.787645\n",
      "A1YUL9PCJR3JTY O. Brown \"Ms. O. Khannah-Brown\"                 214    4.621495\n",
      "A1Z54EM24Y40LL c2                                              211    4.383886\n"
     ]
    }
   ],
   "source": [
    "print(data_user.head())"
   ]
  },
  {
   "cell_type": "markdown",
   "metadata": {},
   "source": [
    "从结果可以看出，评论最多的用户是一个叫Gary Peterson的人，一共有329条，其平均评分为4.66"
   ]
  },
  {
   "cell_type": "code",
   "execution_count": 40,
   "metadata": {},
   "outputs": [
    {
     "data": {
      "image/png": "[encoded data removed]",
      "text/plain": [
       "<Figure size 1080x720 with 1 Axes>"
      ]
     },
     "metadata": {
      "needs_background": "light"
     },
     "output_type": "display_data"
    }
   ],
   "source": [
    "def plot_score(UserId):\n",
    "    data_user = data[data['UserId'] == UserId]['Score']\n",
    "    data_user_plot = data_user.value_counts(sort=False)\n",
    "    ax = data_user_plot.plot(kind='bar',figsize=(15,10),title=\"User {} score\".format(data[data['UserId'] == UserId]['ProfileName'].iloc[0]))\n",
    "\n",
    "plot_score('AY12DBB0U420B')"
   ]
  },
  {
   "cell_type": "markdown",
   "metadata": {},
   "source": [
    "从上面的直方图中可以看出，该用户给了很多高分，1分的一个都没有，2分的只有几个，中立分3也很少，4和5的高分却给了很多，所以该用户非常容易给高分，那么这种用户不具备一般性，参考价值不大"
   ]
  },
  {
   "cell_type": "markdown",
   "metadata": {},
   "source": [
    "下面我要筛选一下平均分在2.5到3.5之间的用户，这种用户分析起来会更方便"
   ]
  },
  {
   "cell_type": "code",
   "execution_count": 51,
   "metadata": {},
   "outputs": [
    {
     "name": "stdout",
     "output_type": "stream",
     "text": [
      "                                                        score count  \\\n",
      "UserId         ProfileName                                            \n",
      "A2M9D9BDHONV3Y A. Bennett                                        92   \n",
      "A2XNJJ9TF70P4J Angie                                             69   \n",
      "A2TN9C5E4A0I3F Jimmy                                             61   \n",
      "AJB5P7GVR0MT8  Harry the Horse                                   60   \n",
      "AQ6AGWKWMTY8H  Pam Tee \"mom,wife,fur-mom,book-blogger\"           50   \n",
      "\n",
      "                                                        score mean  \n",
      "UserId         ProfileName                                          \n",
      "A2M9D9BDHONV3Y A. Bennett                                 3.413043  \n",
      "A2XNJJ9TF70P4J Angie                                      3.188406  \n",
      "A2TN9C5E4A0I3F Jimmy                                      2.868852  \n",
      "AJB5P7GVR0MT8  Harry the Horse                            3.333333  \n",
      "AQ6AGWKWMTY8H  Pam Tee \"mom,wife,fur-mom,book-blogger\"    3.440000  \n"
     ]
    }
   ],
   "source": [
    "print(data_user[(data_user['score mean'] < 3.5) & (data_user['score mean'] > 2.5)].head())"
   ]
  },
  {
   "cell_type": "markdown",
   "metadata": {},
   "source": [
    "根据结果，我选择了出现次数最多，且在2.5到3.5之间的用户A. Bennett"
   ]
  },
  {
   "cell_type": "code",
   "execution_count": 52,
   "metadata": {},
   "outputs": [
    {
     "data": {
      "image/png": "[encoded data removed]",
      "text/plain": [
       "<Figure size 1080x720 with 1 Axes>"
      ]
     },
     "metadata": {
      "needs_background": "light"
     },
     "output_type": "display_data"
    }
   ],
   "source": [
    "plot_score('A2M9D9BDHONV3Y')"
   ]
  },
  {
   "cell_type": "markdown",
   "metadata": {},
   "source": [
    "从可视化的结果可以看出，这个用户更值得分析，下面进行一些具体的分析工作"
   ]
  },
  {
   "cell_type": "code",
   "execution_count": 53,
   "metadata": {},
   "outputs": [],
   "source": [
    "def get_token_words(score,mark,userid='all'):\n",
    "    #判断是某个用户还是全部用户\n",
    "    if userid != 'all':\n",
    "        data_u_s = data[(data['UserId'] == userid) & (data['Score'] == score)]['Text']\n",
    "    else:\n",
    "        data_u_s = data[data['Score'] == score]['Text']\n",
    "        \n",
    "    count = len(data_u_s)\n",
    "    text = ' '.join(data_u_s)\n",
    "    #将文本转化为小写形式\n",
    "    text = text.lower()\n",
    "    #生成停用词列表\n",
    "    stop_words = set(stopwords.words('english'))\n",
    "    #建立分词\n",
    "    words_list = nltk.word_tokenize(text)\n",
    "    #筛选出长度大于3且不在停用词列表中的词汇\n",
    "    words_list = [word for word in words_list if word not in stop_words and len(word) >= 3]\n",
    "    #词性还原\n",
    "    lemmatizer = WordNetLemmatizer()\n",
    "    #动词\n",
    "    words_list = [lemmatizer.lemmatize(w,'v') for w in words_list]\n",
    "    #ngrams模型\n",
    "    bigrams = ngrams(words_list,2)\n",
    "    trigrams = ngrams(words_list,3)\n",
    "    \n",
    "    combine = chain(bigrams,trigrams)\n",
    "    texts = nltk.Text(combine)\n",
    "    #统计combine中相同元素的个数\n",
    "    fdist = nltk.FreqDist(texts)\n",
    "    \n",
    "    return sorted([(w,fdist[w],str(round(fdist[w]/count*100,2))+'%') for w in set(texts) if fdist[w] >= count * mark],key=lambda x: -x[1])"
   ]
  },
  {
   "cell_type": "markdown",
   "metadata": {},
   "source": [
    "该函数用于找出最常出现的词汇，可以用于分析数据"
   ]
  },
  {
   "cell_type": "markdown",
   "metadata": {},
   "source": [
    "下面找出A. Bennett用户最常使用的词汇"
   ]
  },
  {
   "cell_type": "code",
   "execution_count": 54,
   "metadata": {},
   "outputs": [
    {
     "name": "stdout",
     "output_type": "stream",
     "text": [
      "Score 1 most popular 2grams and 3grams:\n",
      "   Count   Occur           Phrase\n",
      "0   13.0  81.25%       (..., ...)\n",
      "1    6.0   37.5%     (never, buy)\n",
      "2    6.0   37.5%  (..., ..., ...)\n",
      "3    4.0   25.0%   (buy, product)\n",
      "Score 2 most popular 2grams and 3grams:\n",
      "   Count   Occur         Phrase\n",
      "0    5.0  35.71%  (taste, like)\n",
      "1    4.0  28.57%   (can, fruit)\n",
      "Score 3 most popular 2grams and 3grams:\n",
      "   Count   Occur         Phrase\n",
      "0    5.0  38.46%     (..., ...)\n",
      "1    4.0  30.77%  (taste, like)\n",
      "Score 4 most popular 2grams and 3grams:\n",
      "   Count   Occur               Phrase\n",
      "0    5.0  35.71%         (side, dish)\n",
      "1    5.0  35.71%  (highly, recommend)\n",
      "Score 5 most popular 2grams and 3grams:\n",
      "   Count   Occur               Phrase\n",
      "0   17.0  48.57%  (highly, recommend)\n"
     ]
    }
   ],
   "source": [
    "indexs = ['Phrase','Count','Occur']\n",
    "\n",
    "#1-5的所有成绩\n",
    "for i in range(1,6):\n",
    "    test = pd.DataFrame()\n",
    "    messages = get_token_words(i,0.25,'A2M9D9BDHONV3Y')\n",
    "    print(\"Score {} most popular 2grams and 3grams:\".format(i))\n",
    "    for j in messages:\n",
    "        test = test.append(pd.Series(j,index=indexs),ignore_index=True)\n",
    "        test = test.sort_values('Count',ascending=False)\n",
    "    print(test)"
   ]
  },
  {
   "cell_type": "markdown",
   "metadata": {},
   "source": [
    "这个用户在低平分中总是喜欢用省略号这样的标记，而在高评分基本就只使用了“强烈推荐”这个词"
   ]
  },
  {
   "cell_type": "markdown",
   "metadata": {},
   "source": [
    "下面找出所有评论的最常用词汇"
   ]
  },
  {
   "cell_type": "code",
   "execution_count": 55,
   "metadata": {},
   "outputs": [
    {
     "name": "stdout",
     "output_type": "stream",
     "text": [
      "Score 1 most popular 2grams and 3grams:\n",
      "     Count   Occur            Phrase\n",
      "0   3916.0  10.79%     (taste, like)\n",
      "1   1711.0   4.71%    (waste, money)\n",
      "2   1439.0   3.96%       (n't, even)\n",
      "3   1404.0   3.87%      (could, n't)\n",
      "4   1251.0   3.45%       (n't, know)\n",
      "5   1134.0   3.12%        (n't, buy)\n",
      "6   1123.0   3.09%      (would, n't)\n",
      "7    942.0   2.59%      (look, like)\n",
      "8    912.0   2.51%    (think, would)\n",
      "9    900.0   2.48%  (grocery, store)\n",
      "10   877.0   2.42%    (buy, product)\n",
      "11   830.0   2.29%        (..., ...)\n",
      "12   794.0   2.19%     (throw, away)\n",
      "13   791.0   2.18%       (n't, like)\n",
      "14   780.0   2.15%      (n't, taste)\n",
      "15   750.0   2.07%     (taste, good)\n",
      "Score 2 most popular 2grams and 3grams:\n",
      "     Count   Occur            Phrase\n",
      "0   2220.0  10.67%     (taste, like)\n",
      "1    919.0   4.42%       (n't, like)\n",
      "2    882.0   4.24%      (would, n't)\n",
      "3    754.0   3.62%        (n't, buy)\n",
      "4    745.0   3.58%      (n't, taste)\n",
      "5    744.0   3.58%    (think, would)\n",
      "6    700.0   3.37%      (could, n't)\n",
      "7    685.0   3.29%       (n't, know)\n",
      "8    659.0   3.17%     (taste, good)\n",
      "9    617.0   2.97%     (href=, http)\n",
      "10   603.0    2.9%    (much, better)\n",
      "11   502.0   2.41%       (n't, even)\n",
      "12   501.0   2.41%        (n't, get)\n",
      "13   497.0   2.39%      (look, like)\n",
      "14   487.0   2.34%      (n't, think)\n",
      "15   483.0   2.32%  (grocery, store)\n",
      "16   477.0   2.29%  (peanut, butter)\n",
      "17   468.0   2.25%      (green, tea)\n",
      "18   452.0   2.17%        ('ve, try)\n",
      "Score 3 most popular 2grams and 3grams:\n",
      "     Count  Occur            Phrase\n",
      "0   2349.0  7.89%     (taste, like)\n",
      "1   1186.0  3.98%      (would, n't)\n",
      "2   1126.0  3.78%     (taste, good)\n",
      "3   1114.0  3.74%       (n't, like)\n",
      "4   1009.0  3.39%     (href=, http)\n",
      "5    935.0  3.14%    (think, would)\n",
      "6    922.0   3.1%       (n't, know)\n",
      "7    853.0  2.87%      (n't, taste)\n",
      "8    837.0  2.81%  (peanut, butter)\n",
      "9    830.0  2.79%      (n't, think)\n",
      "10   815.0  2.74%     (n't, really)\n",
      "11   787.0  2.64%    (much, better)\n",
      "12   773.0   2.6%        (n't, buy)\n",
      "13   769.0  2.58%    (pretty, good)\n",
      "14   766.0  2.57%        (n't, get)\n",
      "15   726.0  2.44%      (could, n't)\n",
      "16   720.0  2.42%    (really, like)\n",
      "17   709.0  2.38%  (grocery, store)\n",
      "18   655.0   2.2%      (green, tea)\n",
      "19   607.0  2.04%      (would, buy)\n",
      "Score 4 most popular 2grams and 3grams:\n",
      "     Count  Occur            Phrase\n",
      "0   3066.0  5.47%     (taste, like)\n",
      "1   2224.0  3.96%     (taste, good)\n",
      "2   2017.0   3.6%    (pretty, good)\n",
      "3   1998.0  3.56%     (href=, http)\n",
      "4   1849.0   3.3%    (really, like)\n",
      "5   1595.0  2.84%       (n't, like)\n",
      "6   1556.0  2.77%  (peanut, butter)\n",
      "7   1494.0  2.66%      (give, star)\n",
      "8   1487.0  2.65%    (taste, great)\n",
      "9   1438.0  2.56%        ('ve, try)\n",
      "10  1431.0  2.55%  (grocery, store)\n",
      "11  1407.0  2.51%      (would, n't)\n",
      "12  1395.0  2.49%      (green, tea)\n",
      "13  1257.0  2.24%       (n't, know)\n",
      "14  1219.0  2.17%    (much, better)\n",
      "15  1191.0  2.12%    (really, good)\n",
      "Score 5 most popular 2grams and 3grams:\n",
      "      Count  Occur               Phrase\n",
      "0   12012.0  4.79%  (highly, recommend)\n",
      "1    9991.0  3.98%        (taste, like)\n",
      "2    8955.0  3.57%     (grocery, store)\n",
      "3    7988.0  3.18%       (taste, great)\n",
      "4    6918.0  2.76%           ('ve, try)\n",
      "5    6633.0  2.64%        (href=, http)\n",
      "6    6129.0  2.44%       (gluten, free)\n",
      "7    6095.0  2.43%        (taste, good)\n",
      "8    5827.0  2.32%     (peanut, butter)\n",
      "9    5392.0  2.15%         (green, tea)\n",
      "10   5197.0  2.07%     (great, product)\n"
     ]
    }
   ],
   "source": [
    "index = ['Phrase','Count','Occur']\n",
    "\n",
    "for i in range(1,6):\n",
    "    test = pd.DataFrame()\n",
    "    messages = get_token_words(i,0.02)\n",
    "    print(\"Score {} most popular 2grams and 3grams:\".format(i))\n",
    "    for j in messages:\n",
    "        test = test.append(pd.Series(j,index=indexs),ignore_index=True)\n",
    "        test = test.sort_values(\"Count\",ascending=False)\n",
    "    print(test)"
   ]
  },
  {
   "cell_type": "markdown",
   "metadata": {},
   "source": [
    "与之前结果最明显的差异就是在3、4、5的评论中页面链接出现的频繁了，但是还是没有什么其他的特别有意义的词汇出现"
   ]
  },
  {
   "cell_type": "markdown",
   "metadata": {},
   "source": [
    "后来发现了一点，就是应该将重点放在形容词上，这样的结果应该会好"
   ]
  },
  {
   "cell_type": "code",
   "execution_count": 56,
   "metadata": {},
   "outputs": [],
   "source": [
    "def get_token_adj(score,mark,userid='all'):\n",
    "    #判断是单个用户还是全部用户\n",
    "    if userid != 'all':\n",
    "        data_u_s = data[(data['UserId'] == userid) & (data['Score'] == score)]['Text']\n",
    "    else:\n",
    "        data_u_s = data[data['Score'] == score]['Text']\n",
    "        \n",
    "    count = len(data_u_s)\n",
    "    text = ' '.join(data_u_s)\n",
    "    #将文件转化为小写形式\n",
    "    text = text.lower()\n",
    "    #提炼出停用词列表\n",
    "    stop_words = set(stopwords.words('english'))\n",
    "    #分词\n",
    "    words_list = nltk.word_tokenize(text)\n",
    "    #筛选出长度大于3且不在停用词列表中的词汇\n",
    "    words_list = [word for word in words_list if word not in stop_words and len(word) >= 3]\n",
    "    #词性还原\n",
    "    lemmatizer = WordNetLemmatizer()\n",
    "    #形容词\n",
    "    words_list = [lemmatizer.lemmatize(w,'a') for w in words_list]\n",
    "    words_list = [word for word,form in nltk.pos_tag(words_list) if form == 'JJ']\n",
    "    \n",
    "    texts = nltk.Text(words_list)\n",
    "    #统计combine中相同元素的个数\n",
    "    fdist = nltk.FreqDist(texts)\n",
    "    \n",
    "    return sorted([(w,fdist[w],str(round(fdist[w]/count*100,2))+'%') for w in set(texts) if fdist[w] >= count * mark],key=lambda x: -x[1])\n"
   ]
  },
  {
   "cell_type": "code",
   "execution_count": 64,
   "metadata": {},
   "outputs": [
    {
     "name": "stdout",
     "output_type": "stream",
     "text": [
      "Score 1 most popular adj words:\n",
      "   Count   Occur     Phrase\n",
      "0    8.0   50.0%        bad\n",
      "1    6.0   37.5%      awful\n",
      "2    6.0   37.5%  delicious\n",
      "3    5.0  31.25%     little\n",
      "4    4.0   25.0%        fat\n",
      "Score 2 most popular adj words:\n",
      "    Count   Occur      Phrase\n",
      "0     5.0  35.71%        good\n",
      "1     4.0  28.57%       whole\n",
      "2     4.0  28.57%        rich\n",
      "3     4.0  28.57%       small\n",
      "4     4.0  28.57%      little\n",
      "5     3.0  21.43%        high\n",
      "6     3.0  21.43%  artificial\n",
      "7     3.0  21.43%       wrong\n",
      "8     3.0  21.43%       awful\n",
      "9     3.0  21.43%        soup\n",
      "10    3.0  21.43%   delicious\n",
      "11    3.0  21.43%        hard\n",
      "Score 3 most popular adj words:\n",
      "    Count   Occur        Phrase\n",
      "0     7.0  53.85%         whole\n",
      "1     5.0  38.46%          high\n",
      "2     4.0  30.77%          good\n",
      "3     4.0  30.77%  disappointed\n",
      "4     4.0  30.77%         first\n",
      "5     3.0  23.08%         black\n",
      "6     3.0  23.08%         great\n",
      "7     3.0  23.08%         tasty\n",
      "8     3.0  23.08%     different\n",
      "9     3.0  23.08%         sweet\n",
      "10    3.0  23.08%          fine\n",
      "11    3.0  23.08%       healthy\n",
      "12    3.0  23.08%        couple\n",
      "Score 4 most popular adj words:\n",
      "   Count   Occur       Phrase\n",
      "0    8.0  57.14%        great\n",
      "1    7.0   50.0%    delicious\n",
      "2    5.0  35.71%       little\n",
      "3    4.0  28.57%         high\n",
      "4    4.0  28.57%         good\n",
      "5    4.0  28.57%    recommend\n",
      "6    4.0  28.57%         much\n",
      "7    3.0  21.43%         easy\n",
      "8    3.0  21.43%  scrumptious\n",
      "Score 5 most popular adj words:\n",
      "    Count   Occur     Phrase\n",
      "0    28.0   80.0%  delicious\n",
      "1    16.0  45.71%      great\n",
      "2    12.0  34.29%       high\n",
      "3    12.0  34.29%      fresh\n",
      "4     9.0  25.71%      whole\n",
      "5     9.0  25.71%     little\n",
      "6     8.0  22.86%        low\n",
      "7     8.0  22.86%       many\n",
      "8     7.0   20.0%       good\n",
      "9     7.0   20.0%    organic\n",
      "10    7.0   20.0%  expensive\n"
     ]
    }
   ],
   "source": [
    "indexs = ['Phrase','Count','Occur']\n",
    "\n",
    "for i in range(1,6):\n",
    "    test = pd.DataFrame()\n",
    "    messages = get_token_adj(i,0.2,'A2M9D9BDHONV3Y')\n",
    "    print(\"Score {} most popular adj words:\".format(i))\n",
    "    for j in messages:\n",
    "        test = test.append(pd.Series(j,index=indexs),ignore_index=True)\n",
    "        test = test.sort_values('Count',ascending=False)\n",
    "    print(test)"
   ]
  },
  {
   "cell_type": "markdown",
   "metadata": {},
   "source": [
    "那么最终的结论就是：用户在吐槽的点是，食物量比较少、脂肪大、价格昂贵、食物口感偏硬等问题，那么找到问题后，就可以根据这些出现的问题来改善食物，进而促进销量"
   ]
  },
  {
   "cell_type": "markdown",
   "metadata": {},
   "source": [
    "第二种尝试"
   ]
  },
  {
   "cell_type": "code",
   "execution_count": null,
   "metadata": {},
   "outputs": [],
   "source": [
    "data_score_1_2 = data[(data['Score'] == 1) & (data['Score'] == 2)]\n",
    "data_score_1_2 = data_score_1_2[data_score_1_2['upvote'].isin(['0-20%','20%-40%','60%-80%','80%-100%'])]\n",
    "\n",
    "X = data_score_1_2['Text']\n",
    "y_dict = {'0-20%':0,'20%-40%':0,'60%-80%':1,'80%-100%':1}\n",
    "y = data_score_1_2['upvote'].map(y_dict)\n",
    "\n",
    "print(\"Classs:\")\n",
    "print(y.value_counts())"
   ]
  },
  {
   "cell_type": "code",
   "execution_count": null,
   "metadata": {},
   "outputs": [],
   "source": []
  },
  {
   "cell_type": "code",
   "execution_count": null,
   "metadata": {},
   "outputs": [],
   "source": []
  }
 ],
 "metadata": {
  "kernelspec": {
   "display_name": "Python 3",
   "language": "python",
   "name": "python3"
  },
  "language_info": {
   "codemirror_mode": {
    "name": "ipython",
    "version": 3
   },
   "file_extension": ".py",
   "mimetype": "text/x-python",
   "name": "python",
   "nbconvert_exporter": "python",
   "pygments_lexer": "ipython3",
   "version": "3.7.3"
  }
 },
 "nbformat": 4,
 "nbformat_minor": 2
}
